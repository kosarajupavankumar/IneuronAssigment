{
 "cells": [
  {
   "cell_type": "code",
   "execution_count": 3,
   "metadata": {},
   "outputs": [],
   "source": [
    "import logging\n",
    "logging.basicConfig(filename=\"test.log\",level=logging.INFO, format='%(asctime)s - %(name)s - %(levelname)s - %(message)s')\n"
   ]
  },
  {
   "cell_type": "code",
   "execution_count": 20,
   "metadata": {},
   "outputs": [],
   "source": [
    "# to know existing Datbase in the MYSQL\n",
    "\n",
    "import mysql.connector as connection\n",
    "\n",
    "\n",
    "try:\n",
    "    mydb = connection.connect(host=\"localhost\",user=\"root\", passwd=\"root\",use_pure=True)\n",
    "    # check if the connection is established\n",
    "\n",
    "    query = \"SHOW DATABASES\"\n",
    "\n",
    "    cursor = mydb.cursor() #create a cursor to execute queries\n",
    "    cursor.execute(query)\n",
    "    logging.info(\"Existing Databases are: ${}\".format(cursor.fetchall()))\n",
    "\n",
    "except Exception as e:\n",
    "    mydb.close()\n",
    "    logging.error(\"Error:\", e)"
   ]
  },
  {
   "cell_type": "code",
   "execution_count": 9,
   "metadata": {},
   "outputs": [],
   "source": [
    "# 1. creating the database \"cardataset\"\n",
    "\n",
    "\n",
    "import mysql.connector as connection\n",
    "\n",
    "try:\n",
    "    mydb = connection.connect(host=\"localhost\",user=\"root\", passwd=\"root\",use_pure=True)\n",
    "    # create a cursor to execute queries\n",
    "\n",
    "    query = \"CREATE DATABASE cardataset\"\n",
    "\n",
    "    cursor = mydb.cursor() #create a cursor to execute queries\n",
    "    cursor.execute(query)\n",
    "    logging.info(\"Database cardataset is created\")\n",
    "    \n",
    "except Exception as e:\n",
    "    mydb.close()\n",
    "    logging.error(str(e))"
   ]
  },
  {
   "cell_type": "code",
   "execution_count": 4,
   "metadata": {},
   "outputs": [],
   "source": [
    "# 1. create a table called as car with a column name given in dataset description\n",
    "\n",
    "import mysql.connector as connection\n",
    "try:\n",
    "    mydb=connection.connect(host=\"localhost\",user=\"root\",passwd=\"root\",database=\"cardataset\",use_pure=True)\n",
    "    # create a cursor to execute queries\n",
    "    \n",
    "    query = \"CREATE TABLE CarTable(id INT AUTO_INCREMENT PRIMARY KEY, Buying VARCHAR(255), maint VARCHAR(200), Door VARCHAR(200), Persons VARCHAR(200), lug_boot VARCHAR(255), safety VARCHAR(255),class VARCHAR(255))\"\n",
    "    \n",
    "    cursor=mydb.cursor()\n",
    "    cursor.execute(query)\n",
    "    logging.info(\"Table car is created\")\n",
    "except Exception as e:\n",
    "    mydb.close()\n",
    "    logging.error(str(e))"
   ]
  },
  {
   "cell_type": "code",
   "execution_count": 10,
   "metadata": {},
   "outputs": [],
   "source": [
    "# 2. Inserting data into the table car with the Primary key\n",
    "\n",
    "import mysql.connector as connection\n",
    "\n",
    "\n",
    "try:\n",
    "    with open(\"car.data\", \"r\") as f:\n",
    "        rowcount =0\n",
    "        id =0\n",
    "        for line in f.readlines():\n",
    "            id +=1\n",
    "            line = line.strip()\n",
    "            line = line.split(\",\")\n",
    "            line.insert(0,id)\n",
    "            \n",
    "            # Establishing connection\n",
    "            mydb=connection.connect(host=\"localhost\",user=\"root\",passwd=\"root\",database=\"cardataset\",use_pure=True)\n",
    "            # create a cursor to execute queries\n",
    "            query = f'INSERT INTO cartable values({[int(a) if type(a)==int else str(a) for a in line]})'\n",
    "            query = query.replace(\"[\",\"\")\n",
    "            query = query.replace(\"]\",\"\")\n",
    "            cursor=mydb.cursor()\n",
    "            cursor.execute(query)\n",
    "            mydb.commit()\n",
    "            rowcount = cursor.rowcount + rowcount\n",
    "        logging.info(f'{rowcount} Row is inserted into the  cartable successfully')\n",
    "except Exception as e:\n",
    "    mydb.close()\n",
    "    logging.error(str(e))\n",
    "            "
   ]
  },
  {
   "cell_type": "code",
   "execution_count": 13,
   "metadata": {},
   "outputs": [],
   "source": [
    "# 3. try to check weather all the data is aviable inside your table or not \n",
    "\n",
    "import mysql.connector as connection\n",
    "\n",
    "try:\n",
    "    mydb = connection.connect(host=\"localhost\",user=\"root\", passwd=\"root\",database=\"cardataset\",use_pure=True)\n",
    "    query = \"SELECT count(*) FROM cartable\"\n",
    "    \n",
    "    cursor = mydb.cursor() #create a cursor to execute queries\n",
    "    cursor.execute(query)\n",
    "    logging.info(\"Total number of rows are: ${}\".format(cursor.fetchall()))\n",
    "except Exception as e:\n",
    "    mydb.close()\n",
    "    logging.error(\"Error:\", e)"
   ]
  },
  {
   "cell_type": "code",
   "execution_count": 15,
   "metadata": {},
   "outputs": [],
   "source": [
    "# try to group all the data with Buying column AND \n",
    "# count occurences of each and every record based on buying  column\n",
    "\n",
    "import mysql.connector as connection\n",
    "\n",
    "try:\n",
    "    mydb = connection.connect(host=\"localhost\",user=\"root\", passwd=\"root\",database=\"cardataset\",use_pure=True)\n",
    "    query = \"SELECT  Buying, count(*) FROM cartable GROUP BY Buying\"\n",
    "    cursor = mydb.cursor() #create a cursor to execute queries\n",
    "    cursor.execute(query)\n",
    "    logging.info(\"Total number of rows based on the group by are : ${}\".format(cursor.fetchall()))\n",
    "except Exception as e:\n",
    "    mydb.close()\n",
    "    logging.error(\"Error:\", e) "
   ]
  },
  {
   "cell_type": "code",
   "execution_count": 16,
   "metadata": {},
   "outputs": [],
   "source": [
    "#  Try to filter a record where col 3 value will be 4\n",
    "\n",
    "import mysql.connector as connection\n",
    "\n",
    "try:\n",
    "    mydb = connection.connect(host=\"localhost\",user=\"root\", passwd=\"root\",database=\"cardataset\",use_pure=True)\n",
    "    query = \"SELECT * FROM cartable WHERE Door = 4\"\n",
    "    cursor = mydb.cursor() #create a cursor to execute queries\n",
    "    cursor.execute(query)\n",
    "    logging.info(\" Rows based on filter condition  are : ${}\".format(cursor.fetchall()))\n",
    "except Exception as e:\n",
    "    mydb.close()\n",
    "    logging.error(\"Error:\", e)"
   ]
  },
  {
   "cell_type": "code",
   "execution_count": 17,
   "metadata": {},
   "outputs": [],
   "source": [
    "# Try to update a col 3 value with 8 whereever you have value equal to 2 \n",
    "\n",
    "try:\n",
    "    mydb = connection.connect(host=\"localhost\",user=\"root\", passwd=\"root\",database=\"cardataset\",use_pure=True)\n",
    "    query = \"UPDATE cartable SET Door = 8 WHERE Door = 2\"\n",
    "    cursor = mydb.cursor() #create a cursor to execute queries\n",
    "    cursor.execute(query)\n",
    "    mydb.commit()\n",
    "    logging.info(\"updated the records successfully\")\n",
    "except Exception as e:\n",
    "    mydb.close()\n",
    "    logging.error(\"Error:\", e)"
   ]
  },
  {
   "cell_type": "code",
   "execution_count": 18,
   "metadata": {},
   "outputs": [],
   "source": [
    "# try to delete cartable  \n",
    "\n",
    "try:\n",
    "    mydb = connection.connect(host=\"localhost\",user=\"root\", passwd=\"root\",database=\"cardataset\",use_pure=True)\n",
    "    query = \"DROP TABLE cartable\"\n",
    "    cursor = mydb.cursor() #create a cursor to execute queries\n",
    "    cursor.execute(query)\n",
    "    mydb.commit()\n",
    "    logging.info(\" cartable is deleted in the database\")\n",
    "except Exception as e:\n",
    "    mydb.close()\n",
    "    logging.error(\"Error:\", e)"
   ]
  },
  {
   "cell_type": "code",
   "execution_count": 19,
   "metadata": {},
   "outputs": [],
   "source": [
    "# Try to delete database\n",
    "\n",
    "try:\n",
    "    mydb = connection.connect(host=\"localhost\",user=\"root\", passwd=\"root\",database=\"cardataset\",use_pure=True)\n",
    "    query = \"DROP DATABASE cardataset\"\n",
    "    cursor = mydb.cursor() #create a cursor to execute queries\n",
    "    cursor.execute(query)\n",
    "    mydb.commit()\n",
    "    logging.info(\" cardataset is deleted in the database\")\n",
    "except Exception as e:\n",
    "    mydb.close()\n",
    "    logging.error(\"Error:\", e)"
   ]
  },
  {
   "cell_type": "code",
   "execution_count": null,
   "metadata": {},
   "outputs": [],
   "source": []
  }
 ],
 "metadata": {
  "interpreter": {
   "hash": "be6b6a6dd5c50eb9dd1d791bb7c5cc38fe0d4861323a9b57f0ae4af49614d244"
  },
  "kernelspec": {
   "display_name": "Python 3.9.10 64-bit (windows store)",
   "language": "python",
   "name": "python3"
  },
  "language_info": {
   "codemirror_mode": {
    "name": "ipython",
    "version": 3
   },
   "file_extension": ".py",
   "mimetype": "text/x-python",
   "name": "python",
   "nbconvert_exporter": "python",
   "pygments_lexer": "ipython3",
   "version": "3.9.10"
  },
  "orig_nbformat": 4
 },
 "nbformat": 4,
 "nbformat_minor": 2
}
