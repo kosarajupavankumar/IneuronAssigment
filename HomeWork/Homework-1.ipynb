{
 "cells": [
  {
   "cell_type": "code",
   "execution_count": 1,
   "metadata": {},
   "outputs": [
    {
     "data": {
      "text/plain": [
       "5"
      ]
     },
     "execution_count": 1,
     "metadata": {},
     "output_type": "execute_result"
    }
   ],
   "source": [
    "# 1. you have to write a function which will take string and \n",
    "# return a len of string without using inbuilt func len\n",
    "\n",
    "def len(str):\n",
    "    \"\"\"this is function which will take string and \n",
    "    return a len of string without using inbuilt func len\n",
    "\n",
    "    Args:\n",
    "        str ([str]): [string which you want to find len]\n",
    "\n",
    "    Returns:\n",
    "        [int]: [len of the string]\n",
    "    \"\"\"\n",
    "    count=0\n",
    "    for i in str:\n",
    "        count+=1\n",
    "    return count\n",
    "\n",
    "len(\"pavan\")"
   ]
  },
  {
   "cell_type": "code",
   "execution_count": 2,
   "metadata": {},
   "outputs": [
    {
     "data": {
      "text/plain": [
       "[0, 1, 2]"
      ]
     },
     "execution_count": 2,
     "metadata": {},
     "output_type": "execute_result"
    }
   ],
   "source": [
    "2. # write a func which will be able to print an index of all premetive element which you will pass\n",
    "\n",
    "def print_primitive(a):\n",
    "    \"\"\"this is function which will be able to print an index of all premetive element which you will pass\n",
    "\n",
    "    Args:\n",
    "        a ([any]): [any data type]\n",
    "\n",
    "    Returns:\n",
    "        [list]: [list of all the index of primitive element]\n",
    "    \"\"\"\n",
    "    l=[]\n",
    "    for i in range(len(a)):\n",
    "        if type(a[i]) == int or type(a[i]) == float or type(a[i]) == str:\n",
    "            l.append(i)\n",
    "    return l\n",
    "\n",
    "print_primitive([34,34.5,\"pavan\",[1,2,3,4,5],4+5j])"
   ]
  },
  {
   "cell_type": "code",
   "execution_count": 3,
   "metadata": {},
   "outputs": [
    {
     "data": {
      "text/plain": [
       "[23, 34, 100, 34]"
      ]
     },
     "execution_count": 3,
     "metadata": {},
     "output_type": "execute_result"
    }
   ],
   "source": [
    "# 3 . Write a fun which will take input as a dict and \n",
    "# give me out as a list of all the values even in case of 2 level nesting it should work .\n",
    "\n",
    "def dict_to_list(a):\n",
    "    \"\"\"this is function which will take input as a dict and \n",
    "    give me out as a list of all the values even in case of 2 level nesting it should work .\n",
    "\n",
    "    Args:\n",
    "        a ([dict]): [dict which you want to convert to list]\n",
    "\n",
    "    Returns:\n",
    "        [list]: [list of all the values in dict]\n",
    "    \"\"\"\n",
    "    l=[]\n",
    "    for i in a.keys():\n",
    "        if type(a[i]) == dict:\n",
    "            for j in a[i].keys():\n",
    "                l.append(a[i][j])\n",
    "        else :\n",
    "            l.append(a[i])\n",
    "    return l\n",
    "\n",
    "d={\"pavan\":23,\"sudh\":34,\"abc\":{\"pavan\":100,\"sudh\":34}}\n",
    "dict_to_list(d)"
   ]
  },
  {
   "cell_type": "code",
   "execution_count": 4,
   "metadata": {},
   "outputs": [
    {
     "data": {
      "text/plain": [
       "6"
      ]
     },
     "execution_count": 4,
     "metadata": {},
     "output_type": "execute_result"
    }
   ],
   "source": [
    "# 4. write a fun which will take another function as an input and return me an output\n",
    "\n",
    "def test6(a):\n",
    "    \"\"\"this is function which will take another function as an input and return me an output\n",
    "\n",
    "    Args:\n",
    "        a ([function]): [function which you want to pass]\n",
    "\n",
    "    Returns:\n",
    "        [function]: [function which you have passed]\n",
    "    \"\"\"\n",
    "    return a\n",
    "\n",
    "test6(test6(6))"
   ]
  },
  {
   "cell_type": "code",
   "execution_count": 5,
   "metadata": {},
   "outputs": [
    {
     "data": {
      "text/plain": [
       "[1, 2, 3, 4, 5, 1, 2, 3, 4, 5, 6, 7, 8, 9, 10]"
      ]
     },
     "execution_count": 5,
     "metadata": {},
     "output_type": "execute_result"
    }
   ],
   "source": [
    "# 5. write a function whihc will take multiple list as a input and \n",
    "# give me concatnation of all the element as and output \n",
    "\n",
    "def concat(a):\n",
    "    \"\"\"this is function which will take multiple list as a input and \n",
    "    give me concatnation of all the element as and output \n",
    "\n",
    "    Args:\n",
    "        a ([list]): [list which you want to concat]\n",
    "\n",
    "    Returns:\n",
    "        [list]: [list of all the element which you have concat]\n",
    "    \"\"\"\n",
    "    l=[]\n",
    "    for i in a:\n",
    "        if type(i) == list:\n",
    "            for j in i:\n",
    "                l.append(j)\n",
    "        else :\n",
    "            l.append(i)\n",
    "    return l\n",
    "\n",
    "concat([1,2,3,4,5,[1,2,3,4,5],6,7,8,9,10])"
   ]
  },
  {
   "cell_type": "code",
   "execution_count": 6,
   "metadata": {},
   "outputs": [
    {
     "data": {
      "text/plain": [
       "[0, 1, 2, 3, 4, 5, 6, 7, 8, 9, 10, 11, 12, 13, 14, 15, 16, 17, 18, 19]"
      ]
     },
     "execution_count": 6,
     "metadata": {},
     "output_type": "execute_result"
    }
   ],
   "source": [
    "# 6 . write a function which will be able to take a list as an input return an index of each \n",
    "# element like a inbuilt index function but even if we have repetative element it should return index \n",
    "\n",
    "def index(a):\n",
    "    \"\"\"this is function which will be able to take a list as an input return an index of each \n",
    "    element like a inbuilt index function but even if we have repetative element it should return index \n",
    "    Args:\n",
    "        a ([list]): [list which you want to find index]\n",
    "\n",
    "    Returns:\n",
    "        [list]: [list of all the index of element]\n",
    "    \"\"\"\n",
    "    l=[]\n",
    "    for i in range(len(a)):\n",
    "        l.append(i)\n",
    "    return l\n",
    "\n",
    "index([1,2,3,4,5,6,7,8,9,10,1,2,3,4,5,6,7,8,9,10])"
   ]
  },
  {
   "cell_type": "code",
   "execution_count": 7,
   "metadata": {},
   "outputs": [
    {
     "data": {
      "text/plain": [
       "['.ipynb_checkpoints',\n",
       " '272.jpg',\n",
       " 'classNotes',\n",
       " 'Data Science',\n",
       " 'decisionOutput.json',\n",
       " 'desktop.ini',\n",
       " 'HomeWork.txt',\n",
       " 'I-neuron',\n",
       " 'MyTechHelp.url',\n",
       " 'Postman.lnk',\n",
       " 'sample',\n",
       " 'test.py',\n",
       " 'testing.json',\n",
       " 'Untitled-1.py',\n",
       " 'Work - Edge.lnk',\n",
       " 'Zoom.lnk']"
      ]
     },
     "execution_count": 7,
     "metadata": {},
     "output_type": "execute_result"
    }
   ],
   "source": [
    "# 7 . Write a function which will whould return list of all the file name from a directory . \n",
    "\n",
    "def file_name(a):\n",
    "    \"\"\"this is function which will whould return list of all the file name from a directory \n",
    "\n",
    "    Args:\n",
    "        a ([str]): [path of the directory]\n",
    "\n",
    "    Returns:\n",
    "        [list]: [list of all the file name in the directory]\n",
    "    \"\"\"\n",
    "    l=[]\n",
    "    import os\n",
    "    for i in os.listdir(a):\n",
    "        l.append(i)\n",
    "    return l\n",
    "\n",
    "file_name(\"C:\\\\Users\\\\pavankumar.kosaraju\\\\Desktop\")"
   ]
  },
  {
   "cell_type": "code",
   "execution_count": 8,
   "metadata": {},
   "outputs": [
    {
     "data": {
      "text/plain": [
       "uname_result(system='Windows', node='P5LAP-3CV3V93', release='10', version='10.0.19041', machine='AMD64', processor='Intel64 Family 6 Model 142 Stepping 12, GenuineIntel')"
      ]
     },
     "execution_count": 8,
     "metadata": {},
     "output_type": "execute_result"
    }
   ],
   "source": [
    "# 8  . write a function which will be able to show your system configuration .\n",
    "\n",
    "def system_config():\n",
    "    \"\"\"this is function which will be able to show your system configuration \n",
    "\n",
    "    Returns:\n",
    "        [str]: [all the system configuration]\n",
    "    \"\"\"\n",
    "    import platform\n",
    "    return platform.uname()\n",
    "\n",
    "system_config()\n",
    "\n"
   ]
  },
  {
   "cell_type": "code",
   "execution_count": 9,
   "metadata": {},
   "outputs": [
    {
     "data": {
      "text/plain": [
       "datetime.datetime(2022, 1, 7, 23, 52, 45, 302065)"
      ]
     },
     "execution_count": 9,
     "metadata": {},
     "output_type": "execute_result"
    }
   ],
   "source": [
    "#9 . write a function which will be able to show date and time  .\n",
    "\n",
    "def date_time():\n",
    "    \"\"\"this is function which will be able to show date and time \n",
    "\n",
    "    Returns:\n",
    "        [str]: [date and time]\n",
    "    \"\"\"\n",
    "    import datetime\n",
    "    return datetime.datetime.now()\n",
    "\n",
    "date_time() \n"
   ]
  },
  {
   "cell_type": "code",
   "execution_count": 11,
   "metadata": {},
   "outputs": [
    {
     "data": {
      "image/png": "[encoded data removed]",
      "text/plain": [
       "<Figure size 432x288 with 1 Axes>"
      ]
     },
     "metadata": {
      "needs_background": "light"
     },
     "output_type": "display_data"
    },
    {
     "data": {
      "text/plain": [
       "array([[[180, 191, 209],\n",
       "        [180, 191, 209],\n",
       "        [180, 191, 209],\n",
       "        ...,\n",
       "        [180, 191, 209],\n",
       "        [180, 191, 209],\n",
       "        [180, 191, 209]],\n",
       "\n",
       "       [[180, 191, 209],\n",
       "        [180, 191, 209],\n",
       "        [180, 191, 209],\n",
       "        ...,\n",
       "        [180, 191, 209],\n",
       "        [180, 191, 209],\n",
       "        [180, 191, 209]],\n",
       "\n",
       "       [[180, 191, 209],\n",
       "        [180, 191, 209],\n",
       "        [180, 191, 209],\n",
       "        ...,\n",
       "        [180, 191, 209],\n",
       "        [180, 191, 209],\n",
       "        [180, 191, 209]],\n",
       "\n",
       "       ...,\n",
       "\n",
       "       [[250, 240, 228],\n",
       "        [250, 240, 228],\n",
       "        [249, 239, 227],\n",
       "        ...,\n",
       "        [248, 243, 239],\n",
       "        [250, 243, 237],\n",
       "        [250, 243, 237]],\n",
       "\n",
       "       [[250, 240, 228],\n",
       "        [250, 240, 228],\n",
       "        [249, 239, 227],\n",
       "        ...,\n",
       "        [248, 243, 239],\n",
       "        [250, 243, 237],\n",
       "        [250, 243, 237]],\n",
       "\n",
       "       [[249, 239, 227],\n",
       "        [249, 239, 227],\n",
       "        [248, 238, 226],\n",
       "        ...,\n",
       "        [248, 243, 239],\n",
       "        [250, 243, 237],\n",
       "        [250, 243, 237]]], dtype=uint8)"
      ]
     },
     "execution_count": 11,
     "metadata": {},
     "output_type": "execute_result"
    }
   ],
   "source": [
    "# 10 . write a function whihc will be able to read a image file and show it to you .\n",
    "\n",
    "def read_image(a):\n",
    "    \"\"\"this is function whihc will be able to read a image file and show it to you .\n",
    "\n",
    "    Args:\n",
    "        a ([str]): [path of the image file]\n",
    "\n",
    "    Returns:\n",
    "        [list]: [list of all the image file]\n",
    "    \"\"\"\n",
    "    import numpy as np\n",
    "    import matplotlib.pyplot as plt\n",
    "    import matplotlib.image as mpimg\n",
    "    img=mpimg.imread(a)\n",
    "    plt.imshow(img)\n",
    "    plt.show()\n",
    "    return img\n",
    "\n",
    "read_image(\"C:\\\\Users\\\\pavankumar.kosaraju\\\\Downloads\\\\272.jpg\")"
   ]
  },
  {
   "cell_type": "code",
   "execution_count": 12,
   "metadata": {},
   "outputs": [
    {
     "data": {
      "text/plain": [
       "'C:\\\\Users\\\\pavankumar.kosaraju\\\\Desktop'"
      ]
     },
     "execution_count": 12,
     "metadata": {},
     "output_type": "execute_result"
    }
   ],
   "source": [
    "# 12  . write a function whihc can move a file from one directory to another directory . \n",
    "\n",
    "def move_file(a,b):\n",
    "    \"\"\"this is function whihc can move a file from one directory to another directory \n",
    "\n",
    "    Args:\n",
    "        a ([str]): [path of the file which you want to move]\n",
    "        b ([str]): [path of the directory where you want to move the file]\n",
    "\n",
    "    Returns:\n",
    "        [str]: [path of the file which you have moved]\n",
    "    \"\"\"\n",
    "    import shutil\n",
    "    shutil.move(a,b)\n",
    "    return b\n",
    "\n",
    "move_file(\"C:\\\\Users\\\\pavankumar.kosaraju\\\\Downloads\\\\272.jpg\",\"C:\\\\Users\\\\pavankumar.kosaraju\\\\Desktop\")"
   ]
  },
  {
   "cell_type": "code",
   "execution_count": null,
   "metadata": {},
   "outputs": [],
   "source": [
    "# 13 . write a function which will be able to shutdonw your system . \n",
    "\n",
    "def shutdown():\n",
    "    \"\"\"this is function which will be able to shutdonw your system . \n",
    "\n",
    "    Args:\n",
    "        None\n",
    "\n",
    "    Returns:\n",
    "        [str]: [shutdown your system]\n",
    "    \"\"\"\n",
    "    import os\n",
    "    os.system('shutdown -s')\n",
    "\n",
    "shutdown()"
   ]
  },
  {
   "cell_type": "code",
   "execution_count": 13,
   "metadata": {},
   "outputs": [],
   "source": [
    "# 14 . write a function whihc will be able to access your mail .\n",
    "\n",
    "def mail():\n",
    "    \"\"\"this is function whihc will be able to access your mail .\n",
    "\n",
    "    Args:\n",
    "        None\n",
    "\n",
    "    Returns:\n",
    "        [str]: [access your mail]\n",
    "    \"\"\"\n",
    "    import os\n",
    "    os.system('start outlook')\n",
    "\n",
    "mail()"
   ]
  },
  {
   "cell_type": "code",
   "execution_count": 14,
   "metadata": {},
   "outputs": [],
   "source": [
    "# 15 . write a func bywhcih i can send a mail to anyone \n",
    "\n",
    "def send_mail(to,subject,content):\n",
    "    \"\"\"this is function bywhcih i can send a mail to anyone \n",
    "\n",
    "    Args:\n",
    "        to ([str]): [to whom you want to send a mail]\n",
    "        subject ([str]): [subject of the mail]\n",
    "        content ([str]): [content of the mail]\n",
    "\n",
    "    Returns:\n",
    "        [str]: [send a mail to anyone]\n",
    "    \"\"\"\n",
    "    import smtplib\n",
    "    server = smtplib.SMTP('pavankumarkosaraju@gmail.com', 587)\n",
    "    server.ehlo()\n",
    "    server.starttls()"
   ]
  },
  {
   "cell_type": "code",
   "execution_count": 16,
   "metadata": {},
   "outputs": [
    {
     "data": {
      "text/plain": [
       "['Change Implementation Readiness Meeting.docx']"
      ]
     },
     "execution_count": 16,
     "metadata": {},
     "output_type": "execute_result"
    }
   ],
   "source": [
    "# 18 . write a function which can help you to filter only word file from a directory . \n",
    "\n",
    "def filter_word_file(dir_name):\n",
    "    \"\"\"this is function which can help you to filter only word file from a directory . \n",
    "\n",
    "    Args:\n",
    "        dir_name ([str]): [directory name]\n",
    "\n",
    "    Returns:\n",
    "        [list]: [list of all the word file]\n",
    "    \"\"\"\n",
    "    import os\n",
    "    l=[]\n",
    "    for i in os.listdir(dir_name):\n",
    "        if i.endswith(\".docx\"):\n",
    "            l.append(i)\n",
    "    return l\n",
    "\n",
    "filter_word_file(\"C:\\\\Users\\\\pavankumar.kosaraju\\\\Downloads\")\n"
   ]
  },
  {
   "cell_type": "code",
   "execution_count": 17,
   "metadata": {},
   "outputs": [
    {
     "data": {
      "text/plain": [
       "'192.168.0.102'"
      ]
     },
     "execution_count": 17,
     "metadata": {},
     "output_type": "execute_result"
    }
   ],
   "source": [
    "# 19 . write a function by which you can print an ip address of your system . \n",
    "\n",
    "def ip_address():\n",
    "    \"\"\"this is function by which you can print an ip address of your system . \n",
    "\n",
    "    Args:\n",
    "        None\n",
    "\n",
    "    Returns:\n",
    "        [str]: [ip address of your system]\n",
    "    \"\"\"\n",
    "    import socket\n",
    "    return socket.gethostbyname(socket.gethostname())\n",
    "\n",
    "ip_address()"
   ]
  },
  {
   "cell_type": "code",
   "execution_count": 2,
   "metadata": {},
   "outputs": [
    {
     "data": {
      "text/plain": [
       "'new_file.pdf'"
      ]
     },
     "execution_count": 2,
     "metadata": {},
     "output_type": "execute_result"
    }
   ],
   "source": [
    "# 20 . write a function by whihc you will be able to append two PDF files . \n",
    "def append_pdf(file1,file2):\n",
    "    \"\"\"this is function by whihc you will be able to append two PDF files . \n",
    "\n",
    "    Args:\n",
    "        file1 ([str]): [first file]\n",
    "        file2 ([str]): [second file]\n",
    "\n",
    "    Returns:\n",
    "        [str]: [new file name]\n",
    "    \"\"\"\n",
    "    import PyPDF2\n",
    "    pdf1_file = open(file1, 'rb')\n",
    "    pdf2_file = open(file2, 'rb')\n",
    "    pdf1 = PyPDF2.PdfFileReader(pdf1_file)\n",
    "    pdf2 = PyPDF2.PdfFileReader(pdf2_file)\n",
    "    pdf3 = PyPDF2.PdfFileWriter()\n",
    "    for page in range(pdf1.getNumPages()):\n",
    "        pdf3.addPage(pdf1.getPage(page))\n",
    "    for page in range(pdf2.getNumPages()):\n",
    "        pdf3.addPage(pdf2.getPage(page))\n",
    "    pdf_file = open('new_file.pdf', 'wb')\n",
    "    pdf3.write(pdf_file)\n",
    "    pdf_file.close()\n",
    "    return \"new_file.pdf\"\n",
    "\n",
    "append_pdf(\"C:\\\\Users\\\\pavankumar.kosaraju\\\\Desktop\\\\I-neuron\\\\Full Stack Data Science.pdf\",\"C:\\\\Users\\\\pavankumar.kosaraju\\\\Downloads\\\\AZ-900.pdf\")"
   ]
  },
  {
   "cell_type": "code",
   "execution_count": null,
   "metadata": {},
   "outputs": [],
   "source": []
  }
 ],
 "metadata": {
  "interpreter": {
   "hash": "086ee1088a693f45512ba22b4f91667798f1cd989e335686b51e42a93a853445"
  },
  "kernelspec": {
   "display_name": "Python 3.6.9 64-bit ('reviewscrapper': conda)",
   "language": "python",
   "name": "python3"
  },
  "language_info": {
   "codemirror_mode": {
    "name": "ipython",
    "version": 3
   },
   "file_extension": ".py",
   "mimetype": "text/x-python",
   "name": "python",
   "nbconvert_exporter": "python",
   "pygments_lexer": "ipython3",
   "version": "3.9.6"
  },
  "orig_nbformat": 4
 },
 "nbformat": 4,
 "nbformat_minor": 2
}
