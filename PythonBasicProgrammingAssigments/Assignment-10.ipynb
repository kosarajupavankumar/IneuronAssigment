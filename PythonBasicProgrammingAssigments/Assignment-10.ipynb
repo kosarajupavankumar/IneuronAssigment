{
 "cells": [
  {
   "cell_type": "code",
   "execution_count": 1,
   "metadata": {},
   "outputs": [
    {
     "name": "stdout",
     "output_type": "stream",
     "text": [
      "15\n"
     ]
    }
   ],
   "source": [
    "# 1. Write a Python program to find sum of elements in list?\n",
    "\n",
    "def sum_of_elements(list):\n",
    "    sum = 0\n",
    "    for i in list:\n",
    "        sum += i\n",
    "    return sum\n",
    "\n",
    "print(sum_of_elements([1,2,3,4,5]))"
   ]
  },
  {
   "cell_type": "code",
   "execution_count": 2,
   "metadata": {},
   "outputs": [
    {
     "name": "stdout",
     "output_type": "stream",
     "text": [
      "120\n"
     ]
    }
   ],
   "source": [
    "# 2. Write a Python program to Multiply all numbers in the list?\n",
    "\n",
    "def multiply_elements(list):\n",
    "    product = 1\n",
    "    for i in list:\n",
    "        product *= i\n",
    "    return product\n",
    "\n",
    "print(multiply_elements([1,2,3,4,5]))"
   ]
  },
  {
   "cell_type": "code",
   "execution_count": 3,
   "metadata": {},
   "outputs": [
    {
     "name": "stdout",
     "output_type": "stream",
     "text": [
      "1\n"
     ]
    }
   ],
   "source": [
    "# 3. Write a Python program to find smallest number in a list?\n",
    "\n",
    "def smallest_element(list):\n",
    "    smallest = list[0]\n",
    "    for i in list:\n",
    "        if i < smallest:\n",
    "            smallest = i\n",
    "    return smallest\n",
    "\n",
    "print(smallest_element([1,2,3,4,5]))"
   ]
  },
  {
   "cell_type": "code",
   "execution_count": 4,
   "metadata": {},
   "outputs": [
    {
     "name": "stdout",
     "output_type": "stream",
     "text": [
      "5\n"
     ]
    }
   ],
   "source": [
    "# 4. Write a Python program to find largest number in a list?\n",
    "\n",
    "def largest_element(list):\n",
    "    largest = list[0]\n",
    "    for i in list:\n",
    "        if i > largest:\n",
    "            largest = i\n",
    "    return largest\n",
    "\n",
    "print(largest_element([1,2,3,4,5]))"
   ]
  },
  {
   "cell_type": "code",
   "execution_count": 5,
   "metadata": {},
   "outputs": [
    {
     "name": "stdout",
     "output_type": "stream",
     "text": [
      "4\n"
     ]
    }
   ],
   "source": [
    "# 5. Write a Python program to find second largest number in a list?\n",
    "\n",
    "def second_largest_element(list):\n",
    "    largest = list[0]\n",
    "    second_largest = list[0]\n",
    "    for i in list:\n",
    "        if i > largest:\n",
    "            second_largest = largest\n",
    "            largest = i\n",
    "        elif i > second_largest and i < largest:\n",
    "            second_largest = i\n",
    "    return second_largest\n",
    "\n",
    "print(second_largest_element([1,2,3,4,5]))"
   ]
  },
  {
   "cell_type": "code",
   "execution_count": 11,
   "metadata": {},
   "outputs": [
    {
     "name": "stdout",
     "output_type": "stream",
     "text": [
      "[10, 9, 8, 7, 6]\n"
     ]
    }
   ],
   "source": [
    "# 6. Write a Python program to find N largest elements from a list?\n",
    "\n",
    "def n_largest_elements(list, n):\n",
    "    n_largest = []\n",
    "    for i in range(n):\n",
    "        largest = list[0]\n",
    "        for j in list:\n",
    "            if j > largest:\n",
    "                largest = j\n",
    "        n_largest.append(largest)\n",
    "        list.remove(largest)\n",
    "    return n_largest\n",
    "\n",
    "print(n_largest_elements([1,2,3,4,5,6,7,8,9,10], 5))"
   ]
  },
  {
   "cell_type": "code",
   "execution_count": 12,
   "metadata": {},
   "outputs": [
    {
     "name": "stdout",
     "output_type": "stream",
     "text": [
      "[2, 4, 6, 8, 10]\n"
     ]
    }
   ],
   "source": [
    "# 7. Write a Python program to print even numbers in a list?\n",
    "\n",
    "def even_numbers(list):\n",
    "    even_list = []\n",
    "    for i in list:\n",
    "        if i % 2 == 0:\n",
    "            even_list.append(i)\n",
    "    return even_list\n",
    "\n",
    "print(even_numbers([1,2,3,4,5,6,7,8,9,10]))"
   ]
  },
  {
   "cell_type": "code",
   "execution_count": 13,
   "metadata": {},
   "outputs": [
    {
     "name": "stdout",
     "output_type": "stream",
     "text": [
      "[1, 3, 5, 7, 9]\n"
     ]
    }
   ],
   "source": [
    "# 8. Write a Python program to print odd numbers in a List?\n",
    "\n",
    "def odd_numbers(list):\n",
    "    odd_list = []\n",
    "    for i in list:\n",
    "        if i % 2 != 0:\n",
    "            odd_list.append(i)\n",
    "    return odd_list\n",
    "\n",
    "print(odd_numbers([1,2,3,4,5,6,7,8,9,10]))"
   ]
  },
  {
   "cell_type": "code",
   "execution_count": 14,
   "metadata": {},
   "outputs": [
    {
     "name": "stdout",
     "output_type": "stream",
     "text": [
      "[[1, 2, 3], [4, 5, 6], [7, 8, 9]]\n"
     ]
    }
   ],
   "source": [
    "# 9. Write a Python program to Remove empty List from List?\n",
    "\n",
    "def remove_empty_list(list):\n",
    "    new_list = []\n",
    "    for i in list:\n",
    "        if i != []:\n",
    "            new_list.append(i)\n",
    "    return new_list\n",
    "\n",
    "print(remove_empty_list([[], [1,2,3], [4,5,6], [7,8,9]]))"
   ]
  },
  {
   "cell_type": "code",
   "execution_count": 17,
   "metadata": {},
   "outputs": [
    {
     "name": "stdout",
     "output_type": "stream",
     "text": [
      "[1, 2, 3, 4, 5]\n"
     ]
    }
   ],
   "source": [
    "# 10. Write a Python program to Cloning or Copying a list?\n",
    "\n",
    "def copy_list(list):\n",
    "    new_list = []\n",
    "    for i in list:\n",
    "        new_list.append(i)\n",
    "    return new_list\n",
    "\n",
    "print(copy_list([1,2,3,4,5]))"
   ]
  },
  {
   "cell_type": "code",
   "execution_count": 19,
   "metadata": {},
   "outputs": [
    {
     "name": "stdout",
     "output_type": "stream",
     "text": [
      "2\n"
     ]
    }
   ],
   "source": [
    "# 11. Write a Python program to Count occurrences of an element in a list?\n",
    "def count_occurrences(list, element):\n",
    "    count = 0\n",
    "    for i in list:\n",
    "        if i == element:\n",
    "            count += 1\n",
    "    return count\n",
    "\n",
    "print(count_occurrences([1,2,3,4,5,6,7,8,9,10,5], 5))"
   ]
  }
 ],
 "metadata": {
  "interpreter": {
   "hash": "d0a86f05f82fde68ac0efb950d36470c82cb6a99d0792a6304fb56a579ae2f5b"
  },
  "kernelspec": {
   "display_name": "Python 3.9.6 64-bit",
   "language": "python",
   "name": "python3"
  },
  "language_info": {
   "codemirror_mode": {
    "name": "ipython",
    "version": 3
   },
   "file_extension": ".py",
   "mimetype": "text/x-python",
   "name": "python",
   "nbconvert_exporter": "python",
   "pygments_lexer": "ipython3",
   "version": "3.9.6"
  },
  "orig_nbformat": 4
 },
 "nbformat": 4,
 "nbformat_minor": 2
}
