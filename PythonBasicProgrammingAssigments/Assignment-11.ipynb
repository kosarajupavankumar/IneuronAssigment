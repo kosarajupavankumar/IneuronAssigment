{
 "cells": [
  {
   "cell_type": "code",
   "execution_count": 3,
   "metadata": {},
   "outputs": [
    {
     "data": {
      "text/plain": [
       "['pavankumarkosaraju']"
      ]
     },
     "execution_count": 3,
     "metadata": {},
     "output_type": "execute_result"
    }
   ],
   "source": [
    "# 1. Write a Python program to find words which are greater than given length k?\n",
    "\n",
    "def greater_than_k(list_of_words, k):\n",
    "    \"\"\"\n",
    "    This function returns the words which are greater than given length k\n",
    "    \"\"\"\n",
    "    return [word for word in list_of_words if len(word) > k]\n",
    "\n",
    "greater_than_k(['hello', 'world', 'python', 'java', 'pavankumarkosaraju'],11)"
   ]
  },
  {
   "cell_type": "code",
   "execution_count": 4,
   "metadata": {},
   "outputs": [
    {
     "data": {
      "text/plain": [
       "'pavnkumar'"
      ]
     },
     "execution_count": 4,
     "metadata": {},
     "output_type": "execute_result"
    }
   ],
   "source": [
    "# 2. Write a Python program for removing i-th character from a string?\n",
    "\n",
    "def remove_ith_character(string, i):\n",
    "    \"\"\"\n",
    "    This function removes the ith character from a string\n",
    "    \"\"\"\n",
    "    return string[:i] + string[i+1:]\n",
    "\n",
    "remove_ith_character('pavankumar', 3)"
   ]
  },
  {
   "cell_type": "code",
   "execution_count": 8,
   "metadata": {},
   "outputs": [
    {
     "data": {
      "text/plain": [
       "'pavan-kumar-kosaraju'"
      ]
     },
     "execution_count": 8,
     "metadata": {},
     "output_type": "execute_result"
    }
   ],
   "source": [
    "# 3. Write a Python program to split and join a string?\n",
    "\n",
    "def split_and_join(string):\n",
    "    \"\"\"\n",
    "    This function splits and joins a string\n",
    "    \"\"\"\n",
    "    return \"-\".join(string.split())\n",
    "\n",
    "split_and_join('pavan kumar kosaraju')"
   ]
  },
  {
   "cell_type": "code",
   "execution_count": 9,
   "metadata": {},
   "outputs": [
    {
     "data": {
      "text/plain": [
       "True"
      ]
     },
     "execution_count": 9,
     "metadata": {},
     "output_type": "execute_result"
    }
   ],
   "source": [
    "# 4. Write a Python to check if a given string is binary string or not?\n",
    "def is_binary(string):\n",
    "    \"\"\"\n",
    "    This function checks if a given string is binary or not\n",
    "    \"\"\"\n",
    "    return string.isdigit() and len(string) == 8\n",
    "\n",
    "is_binary('10101010')"
   ]
  },
  {
   "cell_type": "code",
   "execution_count": 11,
   "metadata": {},
   "outputs": [
    {
     "data": {
      "text/plain": [
       "['kumar', 'kosaraju']"
      ]
     },
     "execution_count": 11,
     "metadata": {},
     "output_type": "execute_result"
    }
   ],
   "source": [
    "# 5. Write a Python program to find uncommon words from two Strings?\n",
    "\n",
    "def uncommon_words(string1, string2):\n",
    "    \"\"\"\n",
    "    This function returns the uncommon words from two strings\n",
    "    \"\"\"\n",
    "    return [word for word in string1.split() if word not in string2.split()]\n",
    "\n",
    "uncommon_words('pavan kumar kosaraju', 'pavan kalyan kosa')"
   ]
  },
  {
   "cell_type": "code",
   "execution_count": 12,
   "metadata": {},
   "outputs": [
    {
     "data": {
      "text/plain": [
       "['a', 'a', ' ', 'k', 'u', 'a', 'r', ' ', 'k', 'a', 'r', 'a', 'u']"
      ]
     },
     "execution_count": 12,
     "metadata": {},
     "output_type": "execute_result"
    }
   ],
   "source": [
    "# 6. Write a Python to find all duplicate characters in string?\n",
    "def duplicate_characters(string):\n",
    "    \"\"\"\n",
    "    This function returns the duplicate characters in a string\n",
    "    \"\"\"\n",
    "    return [char for char in string if string.count(char) > 1]\n",
    "\n",
    "duplicate_characters('pavan kumar kosaraju')"
   ]
  },
  {
   "cell_type": "code",
   "execution_count": 19,
   "metadata": {},
   "outputs": [
    {
     "data": {
      "text/plain": [
       "True"
      ]
     },
     "execution_count": 19,
     "metadata": {},
     "output_type": "execute_result"
    }
   ],
   "source": [
    "# 7. Write a Python Program to check if a string contains any special character?\n",
    "\n",
    "def contains_special_character(string):\n",
    "    \"\"\"\n",
    "    This function checks if a string contains any special character\n",
    "    \"\"\"\n",
    "    return any(char in string for char in '!@#$%^&*()_+-=[]{};:,./<>?')\n",
    "\n",
    "contains_special_character('Hello @^')"
   ]
  }
 ],
 "metadata": {
  "interpreter": {
   "hash": "d0a86f05f82fde68ac0efb950d36470c82cb6a99d0792a6304fb56a579ae2f5b"
  },
  "kernelspec": {
   "display_name": "Python 3.9.6 64-bit",
   "language": "python",
   "name": "python3"
  },
  "language_info": {
   "codemirror_mode": {
    "name": "ipython",
    "version": 3
   },
   "file_extension": ".py",
   "mimetype": "text/x-python",
   "name": "python",
   "nbconvert_exporter": "python",
   "pygments_lexer": "ipython3",
   "version": "3.9.6"
  },
  "orig_nbformat": 4
 },
 "nbformat": 4,
 "nbformat_minor": 2
}
