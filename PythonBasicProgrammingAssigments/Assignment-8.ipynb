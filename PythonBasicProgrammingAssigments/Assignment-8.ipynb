{
 "cells": [
  {
   "cell_type": "code",
   "execution_count": 1,
   "metadata": {},
   "outputs": [
    {
     "data": {
      "text/plain": [
       "[[6, 8], [10, 12]]"
      ]
     },
     "execution_count": 1,
     "metadata": {},
     "output_type": "execute_result"
    }
   ],
   "source": [
    "# 1. Write a Python Program to Add Two Matrices?\n",
    "\n",
    "def add_matrix(m1, m2):\n",
    "    \"\"\"\n",
    "    Function to add two matrices\n",
    "    \"\"\"\n",
    "    if len(m1) == len(m2) and len(m1[0]) == len(m2[0]):\n",
    "        return [[m1[i][j] + m2[i][j] for j in range(len(m1[0]))] for i in range(len(m1))]\n",
    "    else:\n",
    "        return \"Error\"\n",
    "    \n",
    "add_matrix([[1, 2], [3, 4]], [[5, 6], [7, 8]])"
   ]
  },
  {
   "cell_type": "code",
   "execution_count": 2,
   "metadata": {},
   "outputs": [
    {
     "data": {
      "text/plain": [
       "[[19, 22], [43, 50]]"
      ]
     },
     "execution_count": 2,
     "metadata": {},
     "output_type": "execute_result"
    }
   ],
   "source": [
    "# 2. Write a Python Program to Multiply Two Matrices?\n",
    "\n",
    "def multiply_matrix(m1, m2):\n",
    "    \"\"\"\n",
    "    Function to multiply two matrices\n",
    "    \"\"\"\n",
    "    if len(m1[0]) == len(m2):\n",
    "        return [[sum(m1[i][j] * m2[j][k] for j in range(len(m2))) for k in range(len(m2[0]))] for i in range(len(m1))]\n",
    "    else:\n",
    "        return \"Error\"\n",
    "\n",
    "multiply_matrix([[1, 2], [3, 4]], [[5, 6], [7, 8]])"
   ]
  },
  {
   "cell_type": "code",
   "execution_count": 3,
   "metadata": {},
   "outputs": [
    {
     "data": {
      "text/plain": [
       "[[1, 3], [2, 4]]"
      ]
     },
     "execution_count": 3,
     "metadata": {},
     "output_type": "execute_result"
    }
   ],
   "source": [
    "# 3. Write a Python Program to Transpose a Matrix?\n",
    "\n",
    "def transpose_matrix(m1):\n",
    "    \"\"\"\n",
    "    Function to transpose a matrix\n",
    "    \"\"\"\n",
    "    return [[m1[j][i] for j in range(len(m1))] for i in range(len(m1[0]))]\n",
    "\n",
    "transpose_matrix([[1, 2], [3, 4]])"
   ]
  },
  {
   "cell_type": "code",
   "execution_count": 4,
   "metadata": {},
   "outputs": [
    {
     "data": {
      "text/plain": [
       "['C#', 'C++', 'Java', 'JavaScript', 'Python']"
      ]
     },
     "execution_count": 4,
     "metadata": {},
     "output_type": "execute_result"
    }
   ],
   "source": [
    "# 4. Write a Python Program to Sort Words in Alphabetic Order?\n",
    "\n",
    "def sort_words(words):\n",
    "    \"\"\"\n",
    "    Function to sort words in alphabetic order\n",
    "    \"\"\"\n",
    "    return sorted(words)\n",
    "\n",
    "sort_words([\"Python\", \"Java\", \"C++\", \"C#\", \"JavaScript\"])"
   ]
  },
  {
   "cell_type": "code",
   "execution_count": 6,
   "metadata": {},
   "outputs": [
    {
     "data": {
      "text/plain": [
       "'Hi how are you'"
      ]
     },
     "execution_count": 6,
     "metadata": {},
     "output_type": "execute_result"
    }
   ],
   "source": [
    "# 5. Write a Python Program to Remove Punctuation From a String?\n",
    "\n",
    "def remove_punctuation(sentence):\n",
    "    \"\"\"\n",
    "    Function to remove punctuation from a string\n",
    "    \"\"\"\n",
    "    return \"\".join(char for char in sentence if char not in ('!', '?', '.', ','))\n",
    "\n",
    "remove_punctuation(\"Hi, how are you?\")"
   ]
  }
 ],
 "metadata": {
  "interpreter": {
   "hash": "d0a86f05f82fde68ac0efb950d36470c82cb6a99d0792a6304fb56a579ae2f5b"
  },
  "kernelspec": {
   "display_name": "Python 3.9.6 64-bit",
   "language": "python",
   "name": "python3"
  },
  "language_info": {
   "codemirror_mode": {
    "name": "ipython",
    "version": 3
   },
   "file_extension": ".py",
   "mimetype": "text/x-python",
   "name": "python",
   "nbconvert_exporter": "python",
   "pygments_lexer": "ipython3",
   "version": "3.9.6"
  },
  "orig_nbformat": 4
 },
 "nbformat": 4,
 "nbformat_minor": 2
}
