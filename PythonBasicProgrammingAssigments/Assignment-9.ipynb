{
 "cells": [
  {
   "cell_type": "code",
   "execution_count": 2,
   "metadata": {},
   "outputs": [
    {
     "name": "stdout",
     "output_type": "stream",
     "text": [
      "False\n",
      "False\n",
      "False\n"
     ]
    }
   ],
   "source": [
    "# 1. Write a Python program to check if the given number is a Disarium Number?\n",
    "\n",
    "def is_disarium_number(n):\n",
    "    if n < 0:\n",
    "        return False\n",
    "    else:\n",
    "        sum = 0\n",
    "        temp = n\n",
    "        while temp > 0:\n",
    "            digit = temp % 10\n",
    "            sum += digit ** 5\n",
    "            temp //= 10\n",
    "        if n == sum:\n",
    "            return True\n",
    "        else:\n",
    "            return False\n",
    "\n",
    "print(is_disarium_number(153))\n",
    "print(is_disarium_number(351))\n",
    "print(is_disarium_number(1024))\n"
   ]
  },
  {
   "cell_type": "code",
   "execution_count": 4,
   "metadata": {},
   "outputs": [
    {
     "name": "stdout",
     "output_type": "stream",
     "text": [
      "1\n"
     ]
    }
   ],
   "source": [
    "# 2. Write a Python program to print all disarium numbers between 1 to 100?\n",
    "def is_disarium_number(n):\n",
    "    if n < 0:\n",
    "        return False\n",
    "    else:\n",
    "        sum = 0\n",
    "        temp = n\n",
    "        while temp > 0:\n",
    "            digit = temp % 10\n",
    "            sum += digit ** 5\n",
    "            temp //= 10\n",
    "        if n == sum:\n",
    "            return True\n",
    "        else:\n",
    "            return False\n",
    "\n",
    "def disarium_numbers(n):\n",
    "    for i in range(1, n):\n",
    "        if is_disarium_number(i):\n",
    "            print(i)\n",
    "\n",
    "disarium_numbers(100)"
   ]
  },
  {
   "cell_type": "code",
   "execution_count": 8,
   "metadata": {},
   "outputs": [
    {
     "name": "stdout",
     "output_type": "stream",
     "text": [
      "False\n",
      "True\n",
      "False\n"
     ]
    }
   ],
   "source": [
    "# 3. Write a Python program to check if the given number is Happy Number?\n",
    "\n",
    "def is_happy_number(n):\n",
    "    if n < 0:\n",
    "        return False\n",
    "    else:\n",
    "        sum = 0\n",
    "        temp = n\n",
    "        while temp > 0:\n",
    "            digit = temp % 10\n",
    "            sum += digit ** 2\n",
    "            temp //= 10\n",
    "        if n == sum:\n",
    "            return True\n",
    "        else:\n",
    "            return False\n",
    "\n",
    "print(is_happy_number(34))\n",
    "print(is_happy_number(1))\n",
    "print(is_happy_number(19))"
   ]
  },
  {
   "cell_type": "code",
   "execution_count": 12,
   "metadata": {},
   "outputs": [
    {
     "name": "stdout",
     "output_type": "stream",
     "text": [
      "1\n"
     ]
    }
   ],
   "source": [
    "# 4. Write a Python program to print all happy numbers between 1 and 100?\n",
    "\n",
    "def happy_number_interval(n):\n",
    "    for i in range(1, n):\n",
    "        if is_happy_number(i):\n",
    "            print(i)\n",
    "            \n",
    "happy_number_interval(100)"
   ]
  },
  {
   "cell_type": "code",
   "execution_count": 13,
   "metadata": {},
   "outputs": [
    {
     "name": "stdout",
     "output_type": "stream",
     "text": [
      "True\n",
      "True\n",
      "False\n"
     ]
    }
   ],
   "source": [
    "# 5. Write a Python program to determine whether the given number is a Harshad Number?\n",
    "\n",
    "def is_harshad_number(n):\n",
    "    if n < 0:\n",
    "        return False\n",
    "    else:\n",
    "        sum = 0\n",
    "        temp = n\n",
    "        while temp > 0:\n",
    "            digit = temp % 10\n",
    "            sum += digit\n",
    "            temp //= 10\n",
    "        if n % sum == 0:\n",
    "            return True\n",
    "        else:\n",
    "            return False\n",
    "\n",
    "print(is_harshad_number(12))\n",
    "print(is_harshad_number(100))\n",
    "print(is_harshad_number(123))"
   ]
  },
  {
   "cell_type": "code",
   "execution_count": 15,
   "metadata": {},
   "outputs": [
    {
     "data": {
      "text/plain": [
       "False"
      ]
     },
     "execution_count": 15,
     "metadata": {},
     "output_type": "execute_result"
    }
   ],
   "source": [
    "# 6. Write a Python program to print all pronic numbers between 1 and 100?\n",
    "\n",
    "def is_pronic_number(n):\n",
    "    if n < 0:\n",
    "        return False\n",
    "    else:\n",
    "        if n == 1:\n",
    "            return True\n",
    "        else:\n",
    "            if n % 2 == 0:\n",
    "                return is_pronic_number(n - 1)\n",
    "            else:\n",
    "                return False\n",
    "            \n",
    "is_pronic_number(100)"
   ]
  }
 ],
 "metadata": {
  "interpreter": {
   "hash": "d0a86f05f82fde68ac0efb950d36470c82cb6a99d0792a6304fb56a579ae2f5b"
  },
  "kernelspec": {
   "display_name": "Python 3.9.6 64-bit",
   "language": "python",
   "name": "python3"
  },
  "language_info": {
   "codemirror_mode": {
    "name": "ipython",
    "version": 3
   },
   "file_extension": ".py",
   "mimetype": "text/x-python",
   "name": "python",
   "nbconvert_exporter": "python",
   "pygments_lexer": "ipython3",
   "version": "3.9.6"
  },
  "orig_nbformat": 4
 },
 "nbformat": 4,
 "nbformat_minor": 2
}
