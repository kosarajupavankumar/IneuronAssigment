{
 "cells": [
  {
   "cell_type": "code",
   "execution_count": 10,
   "metadata": {},
   "outputs": [
    {
     "name": "stdout",
     "output_type": "stream",
     "text": [
      "[4.0, 4, 4]\n",
      "[22.5, 10, 16]\n",
      "[29.0, 100]\n"
     ]
    }
   ],
   "source": [
    "# 1. Given a list of numbers, create a function that removes 25% from every number in the list except the smallest number, and adds the total amount removed to the smallest number.\n",
    "\n",
    "# Examples\n",
    "\n",
    "# show_the_love([4, 1, 4]) ➞ [3, 3, 3]\n",
    "\n",
    "# show_the_love([16, 10, 8]) ➞ [12, 7.5, 14.5]\n",
    "\n",
    "# show_the_love([2, 100]) ➞ [27, 75]\n",
    "\n",
    "def show_the_love(lst):\n",
    "    lst.sort()\n",
    "    total = 0\n",
    "    for i in range(len(lst)):\n",
    "        if i == 0:\n",
    "            total += lst[i]\n",
    "        else:\n",
    "            total += lst[i] * 0.25\n",
    "    lst[0] += total\n",
    "    return lst\n",
    "\n",
    "print(show_the_love([4, 1, 4]))\n",
    "print(show_the_love([16, 10, 8]))\n",
    "print(show_the_love([2, 100]))"
   ]
  },
  {
   "cell_type": "code",
   "execution_count": 16,
   "metadata": {},
   "outputs": [
    {
     "name": "stdout",
     "output_type": "stream",
     "text": [
      "['sap', 'hr', 'o']\n",
      "['bord', 'a', 'e']\n",
      "['ppne', 'ahiss', 'lov']\n",
      "['fuffl', 'eekr', 'y']\n",
      "['mah', 'ct', '']\n"
     ]
    }
   ],
   "source": [
    "# 2. Create a function that takes in two words as input and returns a list of three elements, in the following order:\n",
    "\n",
    "#    1.Shared letters between two words.\n",
    "#    2.Letters unique to word 1.\n",
    "#    3.Letters unique to word 2.\n",
    "\n",
    "# Each element should have unique letters, and have each letter be alphabetically sorted.\n",
    "\n",
    "# Examples\n",
    "\n",
    "# letters(\"sharp\", \"soap\") ➞ [\"aps\", \"hr\", \"o\"]\n",
    "\n",
    "# letters(\"board\", \"bored\") ➞ [\"bdor\", \"a\", \"e\"]\n",
    "\n",
    "# letters(\"happiness\", \"envelope\") ➞ [\"enp\", \"ahis\", \"lov\"]\n",
    "\n",
    "# letters(\"kerfuffle\", \"fluffy\") ➞ [\"flu\", \"ekr\", \"y\"]\n",
    "# # Even with multiple matching letters (e.g. 3 f's), there should \n",
    "# # only exist a single \"f\" in your first element.\n",
    "\n",
    "# letters(\"match\", \"ham\") ➞ [\"ahm\", \"ct\", \"\"]\n",
    "# # \"ham\" does not contain any letters that are not found already \n",
    "# # in \"match\".\n",
    "\n",
    "def letters(word1, word2):\n",
    "    shared = []\n",
    "    unique1 = []\n",
    "    unique2 = []\n",
    "    for i in range(len(word1)):\n",
    "        if word1[i] in word2:\n",
    "            shared.append(word1[i])\n",
    "    for i in range(len(word1)):\n",
    "        if word1[i] not in shared:\n",
    "            unique1.append(word1[i])\n",
    "    for i in range(len(word2)):\n",
    "        if word2[i] not in shared:\n",
    "            unique2.append(word2[i])\n",
    "    unique1.sort()\n",
    "    unique2.sort()\n",
    "    return [''.join(shared), ''.join(unique1), ''.join(unique2)]\n",
    "\n",
    "print(letters(\"sharp\", \"soap\"))\n",
    "print(letters(\"board\", \"bored\"))\n",
    "print(letters(\"happiness\", \"envelope\"))\n",
    "print(letters(\"kerfuffle\", \"fluffy\"))\n",
    "print(letters(\"match\", \"ham\"))"
   ]
  },
  {
   "cell_type": "code",
   "execution_count": 13,
   "metadata": {},
   "outputs": [
    {
     "name": "stdout",
     "output_type": "stream",
     "text": [
      "[[1, 7], [2, 6], [3, 5], [4, 4]]\n",
      "[[1, 6], [2, 5], [3, 4]]\n",
      "[[5, 2], [9, 1], [8, 8]]\n",
      "[]\n"
     ]
    }
   ],
   "source": [
    "# 3. Write a function that pairs the first number in an array with the last, the second number with the second to last, etc.\n",
    "\n",
    "# Examples\n",
    "\n",
    "# pairs([1, 2, 3, 4, 5, 6, 7]) ➞ [[1, 7], [2, 6], [3, 5], [4, 4]]\n",
    "\n",
    "# pairs([1, 2, 3, 4, 5, 6]) ➞ [[1, 6], [2, 5], [3, 4]]\n",
    "\n",
    "# pairs([5, 9, 8, 1, 2]) ➞ [[5, 2], [9, 1], [8, 8]]\n",
    "\n",
    "# pairs([]) ➞ []\n",
    "\n",
    "def pairs(lst):\n",
    "    if len(lst) == 0:\n",
    "        return []\n",
    "    else:\n",
    "        return [[lst[0], lst[-1]]] + pairs(lst[1:-1])\n",
    "\n",
    "print(pairs([1, 2, 3, 4, 5, 6, 7]))\n",
    "print(pairs([1, 2, 3, 4, 5, 6]))\n",
    "print(pairs([5, 9, 8, 1, 2]))\n",
    "print(pairs([]))"
   ]
  },
  {
   "cell_type": "code",
   "execution_count": 34,
   "metadata": {},
   "outputs": [
    {
     "name": "stdout",
     "output_type": "stream",
     "text": [
      "45\n",
      "bcdefga3\n",
      "1\n",
      "273592835792357892579952372578692267357328896245768213\n"
     ]
    }
   ],
   "source": [
    "# 4. Write a function that adds two numbers. The catch, however, is that the numbers will be strings.\n",
    "\n",
    "# Examples\n",
    "\n",
    "# add_str_nums(\"4\", \"5\") ➞ \"9\"\n",
    "\n",
    "# add_str_nums(\"abcdefg\", \"3\") ➞ \"-1\"\n",
    "\n",
    "# add_str_nums(\"1\", \"\") ➞ \"1\"\n",
    "\n",
    "# add_str_nums(\"1874682736267235927359283579235789257\", \"32652983572985729\") ➞ \"1874682736267235927391936562808774986\"\n",
    "\n",
    "def add_str_nums(str1, str2):\n",
    "    if len(str1) == 0 or len(str2) == 0:\n",
    "        return str1 + str2\n",
    "    else:\n",
    "        return add_str_nums(str1[1:], str2[1:]) + str1[0] + str2[0]\n",
    "\n",
    "\n",
    "print(add_str_nums(\"4\", \"5\"))\n",
    "print(add_str_nums(\"abcdefg\", \"3\"))\n",
    "print(add_str_nums(\"1\", \"\"))\n",
    "print(add_str_nums(\"1874682736267235927359283579235789257\", \"32652983572985729\"))\n"
   ]
  },
  {
   "cell_type": "code",
   "execution_count": 32,
   "metadata": {},
   "outputs": [
    {
     "name": "stdout",
     "output_type": "stream",
     "text": [
      "654321\n",
      "g.intr supd xemia s  iisTh\n",
      "ecdab\n"
     ]
    }
   ],
   "source": [
    "# 5. lPaeesh le pemu mnxit ehess rtnisg! Oh, sorry, that was supposed to say: Please help me unmix these strings!\n",
    "\n",
    "# Somehow my strings have all become mixed up; every pair of characters has been swapped. Help me undo this so I can understand my strings again.\n",
    "\n",
    "# Examples\n",
    "\n",
    "# unmix(\"123456\") ➞ \"214365\"\n",
    "\n",
    "# unmix(\"hTsii  s aimex dpus rtni.g\") ➞ \"This is a mixed up string.\"\n",
    "\n",
    "# unmix(\"badce\") ➞ \"abcde\"\n",
    "\n",
    "\n",
    "def unmix(str1):\n",
    "    if len(str1) == 0:\n",
    "        return str1\n",
    "    else:\n",
    "        return unmix(str1[1:]) + str1[0]\n",
    "\n",
    "print(unmix(\"123456\"))\n",
    "print(unmix(\"hTsii  s aimex dpus rtni.g\"))\n",
    "print(unmix(\"badce\"))\n"
   ]
  },
  {
   "cell_type": "code",
   "execution_count": null,
   "metadata": {},
   "outputs": [],
   "source": []
  }
 ],
 "metadata": {
  "interpreter": {
   "hash": "d0a86f05f82fde68ac0efb950d36470c82cb6a99d0792a6304fb56a579ae2f5b"
  },
  "kernelspec": {
   "display_name": "Python 3.9.6 64-bit",
   "language": "python",
   "name": "python3"
  },
  "language_info": {
   "codemirror_mode": {
    "name": "ipython",
    "version": 3
   },
   "file_extension": ".py",
   "mimetype": "text/x-python",
   "name": "python",
   "nbconvert_exporter": "python",
   "pygments_lexer": "ipython3",
   "version": "3.9.6"
  },
  "orig_nbformat": 4
 },
 "nbformat": 4,
 "nbformat_minor": 2
}
