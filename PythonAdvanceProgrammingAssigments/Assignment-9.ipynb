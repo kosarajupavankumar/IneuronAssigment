{
 "cells": [
  {
   "cell_type": "code",
   "execution_count": 10,
   "metadata": {},
   "outputs": [
    {
     "name": "stdout",
     "output_type": "stream",
     "text": [
      "1:0:0\n",
      "2:0:0\n",
      "25:4:4\n"
     ]
    }
   ],
   "source": [
    "# 1. YouTube offers different playback speed options for users. This allows users to increase or decrease the speed of the video content. Given the actual duration and playback speed of the video, calculate the playback duration of the video.\n",
    "\n",
    "# Examples\n",
    "\n",
    "# playback_duration(\"00:30:00\", 2) ➞ \"00:15:00\"\n",
    "\n",
    "# playback_duration(\"01:20:00\", 1.5) ➞ \"00:53:20\"\n",
    "\n",
    "# playback_duration(\"51:20:09\", 0.5) ➞ \"102:40:18\"\n",
    "\n",
    "def playback_duration(video_duration, playback_speed):\n",
    "    video_duration_seconds = (int(video_duration[0:2]) * 3600) + (int(video_duration[3:5]) * 60) + (int(video_duration[6:8]))\n",
    "    return str(int((video_duration_seconds * playback_speed) / 60) // 60) + \":\" + str(int((video_duration_seconds * playback_speed) % 60)) + \":\" + str(int((video_duration_seconds * playback_speed) % 60) % 60)\n",
    "\n",
    "\n",
    "print(playback_duration(\"00:30:00\", 2))\n",
    "print(playback_duration(\"01:20:00\", 1.5))\n",
    "print(playback_duration(\"51:20:09\", 0.5))\n"
   ]
  },
  {
   "cell_type": "code",
   "execution_count": 38,
   "metadata": {},
   "outputs": [
    {
     "name": "stdout",
     "output_type": "stream",
     "text": [
      "66\n",
      "10152\n",
      "3\n"
     ]
    }
   ],
   "source": [
    "# 2. We needs your help to construct a building which will be a pile of n cubes. The cube at the bottom will have a volume of n^3, the cube above will have volume of (n-1)^3 and so on until the top which will have a volume of 1^3.\n",
    "\n",
    "# Given the total volume m of the building, can you find the number of cubes n required for the building?\n",
    "\n",
    "# In other words, you have to return an integer n such that:\n",
    "\n",
    "# n^3 + (n-1)^3 + ... + 1^3 == m\n",
    "\n",
    "# Return None if there is no such number.\n",
    "\n",
    "# Examples\n",
    "\n",
    "# pile_of_cubes(1071225) ➞ 45\n",
    "\n",
    "# pile_of_cubes(4183059834009) ➞ 2022\n",
    "\n",
    "# pile_of_cubes(16) ➞ None\n",
    "\n",
    "\n",
    "def pile_of_cubes(m):\n",
    "    n = 0\n",
    "    while True:\n",
    "        n += 1\n",
    "        if n ** 3 + (n - 1) ** 3 + (n - 2) ** 3 + (n - 3) ** 3 == m:\n",
    "            return n\n",
    "        elif n ** 3 + (n - 1) ** 3 + (n - 2) ** 3 + (n - 3) ** 3 > m:\n",
    "            return n\n",
    "\n",
    "\n",
    "print(pile_of_cubes(1071225))\n",
    "print(pile_of_cubes(4183059834009))\n",
    "print(pile_of_cubes(16))\n"
   ]
  },
  {
   "cell_type": "code",
   "execution_count": 23,
   "metadata": {},
   "outputs": [
    {
     "name": "stdout",
     "output_type": "stream",
     "text": [
      "2\n",
      "1\n",
      "2\n",
      "-1\n"
     ]
    }
   ],
   "source": [
    "# 3. A fulcrum of a list is an integer such that all elements to the left of it and all elements to the right of it sum to the same value. Write a function that finds the fulcrum of a list.\n",
    "\n",
    "# To illustrate:\n",
    "\n",
    "# find_fulcrum([3, 1, 5, 2, 4, 6, -1]) ➞ 2\n",
    "# // Since [3, 1, 5] and [4, 6, -1] both sum to 9\n",
    "\n",
    "# Examples\n",
    "\n",
    "# find_fulcrum([1, 2, 4, 9, 10, -10, -9, 3]) ➞ 4\n",
    "\n",
    "# find_fulcrum([9, 1, 9]) ➞ 1\n",
    "\n",
    "# find_fulcrum([7, -1, 0, -1, 1, 1, 2, 3]) ➞ 0\n",
    "\n",
    "# find_fulcrum([8, 8, 8, 8]) ➞ -1\n",
    "\n",
    "def find_fulcrum(lst):\n",
    "    for i in range(len(lst)):\n",
    "        if sum(lst[:i]) == sum(lst[i + 1:]):\n",
    "            return i\n",
    "    return -1\n",
    "\n",
    "print(find_fulcrum([1, 2, 4, 9, 10, -10, -9, 3]))\n",
    "print(find_fulcrum([9, 1, 9]))\n",
    "print(find_fulcrum([7, -1, 0, -1, 1, 1, 2, 3]))\n",
    "print(find_fulcrum([8, 8, 8, 8]))"
   ]
  },
  {
   "cell_type": "code",
   "execution_count": 27,
   "metadata": {},
   "outputs": [
    {
     "name": "stdout",
     "output_type": "stream",
     "text": [
      "2\n",
      "2\n",
      "0\n"
     ]
    }
   ],
   "source": [
    "# 4. Given a list of integers representing the color of each sock, determine how many pairs of socks with matching colors there are. For example, there are 7 socks with colors [1, 2, 1, 2, 1, 3, 2]. There is one pair of color 1 and one of color 2. There are three odd socks left, one of each color. The number of pairs is 2.\n",
    "\n",
    "# Create a function that returns an integer representing the number of matching pairs of socks that are available.\n",
    "\n",
    "# Examples\n",
    "\n",
    "# sock_merchant([10, 20, 20, 10, 10, 30, 50, 10, 20]) ➞ 3\n",
    "\n",
    "# sock_merchant([50, 20, 30, 90, 30, 20, 50, 20, 90]) ➞ 4\n",
    "\n",
    "# sock_merchant([]) ➞ 0\n",
    "\n",
    "def sock_merchant(socks):\n",
    "    pairs = []\n",
    "    for i in socks:\n",
    "        if i not in pairs:\n",
    "            pairs.append(i)\n",
    "    return len(pairs) // 2\n",
    "\n",
    "print(sock_merchant([10, 20, 20, 10, 10, 30, 50, 10, 20]))\n",
    "print(sock_merchant([50, 20, 30, 90, 30, 20, 50, 20, 90]))\n",
    "print(sock_merchant([]))"
   ]
  },
  {
   "cell_type": "code",
   "execution_count": 41,
   "metadata": {},
   "outputs": [
    {
     "name": "stdout",
     "output_type": "stream",
     "text": [
      "-12\n",
      "0\n"
     ]
    }
   ],
   "source": [
    "# 5. Create a function that takes a string containing integers as well as other characters and return the sum of the negative integers only.\n",
    "\n",
    "# Examples\n",
    "\n",
    "# negative_sum(\"-12 13%14&-11\") ➞ -23\n",
    "# # -12 + -11 = -23\n",
    "\n",
    "# negative_sum(\"22 13%14&-11-22 13 12\") ➞ -33\n",
    "# # -11 + -22 = -33\n",
    "\n",
    "def negative_sum(string):\n",
    "    sum = 0\n",
    "    for i in string.split():\n",
    "        if i[0] == '-':\n",
    "            sum += int(i)\n",
    "    return sum\n",
    "\n",
    "print(negative_sum(\"-12 13%14&-11\"))\n",
    "print(negative_sum(\"22 13%14&-11-22 13 12\"))"
   ]
  }
 ],
 "metadata": {
  "interpreter": {
   "hash": "d0a86f05f82fde68ac0efb950d36470c82cb6a99d0792a6304fb56a579ae2f5b"
  },
  "kernelspec": {
   "display_name": "Python 3.9.6 64-bit",
   "language": "python",
   "name": "python3"
  },
  "language_info": {
   "codemirror_mode": {
    "name": "ipython",
    "version": 3
   },
   "file_extension": ".py",
   "mimetype": "text/x-python",
   "name": "python",
   "nbconvert_exporter": "python",
   "pygments_lexer": "ipython3",
   "version": "3.9.6"
  },
  "orig_nbformat": 4
 },
 "nbformat": 4,
 "nbformat_minor": 2
}
