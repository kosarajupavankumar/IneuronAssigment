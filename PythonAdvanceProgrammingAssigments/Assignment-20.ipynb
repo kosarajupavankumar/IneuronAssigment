{
 "cells": [
  {
   "cell_type": "code",
   "execution_count": 4,
   "metadata": {},
   "outputs": [
    {
     "name": "stdout",
     "output_type": "stream",
     "text": [
      "<p class='p one two three'></p>\n",
      "<p class='p one'></p>\n",
      "<p class='p four five'></p>\n"
     ]
    }
   ],
   "source": [
    "# 1. Create a function based on the input and output. Look at the examples, there is a pattern.\n",
    "\n",
    "# Examples\n",
    "\n",
    "# secret(\"p.one.two.three\") ➞ \"<p class='one two three'></p>\"\n",
    "\n",
    "# secret(\"p.one\") ➞ \"<p class='one'></p>\"\n",
    "\n",
    "# secret(\"p.four.five\") ➞ \"<p class='four five'></p>\"\n",
    "\n",
    "def secret(string):\n",
    "    string = string.split(\".\")\n",
    "    return \"<p class='\" + \" \".join(string) + \"'></p>\"\n",
    "\n",
    "print(secret(\"p.one.two.three\"))\n",
    "print(secret(\"p.one\"))\n",
    "print(secret(\"p.four.five\"))"
   ]
  },
  {
   "cell_type": "code",
   "execution_count": null,
   "metadata": {},
   "outputs": [],
   "source": []
  },
  {
   "cell_type": "code",
   "execution_count": 13,
   "metadata": {},
   "outputs": [
    {
     "name": "stdout",
     "output_type": "stream",
     "text": [
      "2\n",
      "2\n",
      "1\n",
      "0\n"
     ]
    }
   ],
   "source": [
    "# 2. Create a function which counts how many lone 1s appear in a given number. Lone means the number doesn't appear twice or more in a row.\n",
    "\n",
    "# Examples\n",
    "\n",
    "# count_lone_ones(101) ➞ 2\n",
    "\n",
    "# count_lone_ones(1191) ➞ 1\n",
    "\n",
    "# count_lone_ones(1111) ➞ 0\n",
    "\n",
    "# count_lone_ones(462) ➞ 0\n",
    "def count_lone_ones(num):\n",
    "    num = str(num)\n",
    "    count = 0\n",
    "    for i in range(len(num)):\n",
    "        if i == 0:\n",
    "            if num[i] == '1':\n",
    "                count += 1\n",
    "        else:\n",
    "            if num[i] == '1' and num[i-1] != '1':\n",
    "                count += 1\n",
    "    return count\n",
    "\n",
    "print(count_lone_ones(101))\n",
    "print(count_lone_ones(1191))\n",
    "print(count_lone_ones(1111))\n",
    "print(count_lone_ones(462))"
   ]
  },
  {
   "cell_type": "code",
   "execution_count": 23,
   "metadata": {},
   "outputs": [
    {
     "name": "stdout",
     "output_type": "stream",
     "text": [
      "[[1, 2, 3, 4, 5, 6], [7, 8, 9, 10, 11, 12], [13, 14, 15, 16, 17, 18]]\n"
     ]
    }
   ],
   "source": [
    "# 3. Write a method that accepts two integer parameters rows and cols. \n",
    "# The output is a 2d array of numbers displayed in column-major order, \n",
    "# meaning the numbers shown increase sequentially down each column and \n",
    "# wrap to the top of the next column to the right once the bottom of the current column is reached.\n",
    "\n",
    "# Examples\n",
    "\n",
    "# printGrid(3, 6) ➞ [\n",
    "#   [1, 4, 7, 10, 13, 16],\n",
    "#   [2, 5, 8, 11, 14, 17],\n",
    "#   [3, 6, 9, 12, 15, 18]\n",
    "# ]\n",
    "\n",
    "# printGrid(5, 3) ➞ [\n",
    "#   [1, 6, 11],\n",
    "#   [2, 7, 12],\n",
    "#   [3, 8, 13],\n",
    "#   [4, 9, 14],\n",
    "#   [5, 10, 15]\n",
    "# ]\n",
    "\n",
    "# printGrid(4, 1) ➞ [\n",
    "#   [1],\n",
    "#   [2],\n",
    "#   [3],\n",
    "#   [4]\n",
    "# ]\n",
    "\n",
    "def printgrid(rows, cols):\n",
    "    grid = []\n",
    "    for i in range(rows):\n",
    "        grid.append([])\n",
    "        for j in range(cols):\n",
    "            grid[i].append(i*cols + j + 1)\n",
    "    return grid\n",
    "\n",
    "print(printgrid(3, 6))"
   ]
  },
  {
   "cell_type": "code",
   "execution_count": 35,
   "metadata": {},
   "outputs": [
    {
     "name": "stdout",
     "output_type": "stream",
     "text": [
      "8\n"
     ]
    }
   ],
   "source": [
    "# 4. Given a list of integers, return the smallest positive integer not present in the list.\n",
    "\n",
    "# Here is a representative example. Consider the list:\n",
    "\n",
    "# [-2, 6, 4, 5, 7, -1, 7, 1, 3, 6, 6, -2, 9, 10, 2, 2]\n",
    "\n",
    "# After reordering, the list becomes:\n",
    "\n",
    "# [-2, -2, -1, 1, 2, 2, 3, 4, 5, 6, 6, 6, 7, 7, 9, 10]\n",
    "\n",
    "# from which we see that the smallest missing positive integer is 8.\n",
    "\n",
    "# Examples\n",
    "\n",
    "# min_miss_pos([-2, 6, 4, 5, 7, -1, 1, 3, 6, -2, 9, 10, 2, 2]) ➞ 8\n",
    "# # After sorting, list becomes [-2, -2, -1, 1, 2, 2, 3, 4, 5, 6, 6, 7, 9, 10]\n",
    "# # So the smallest missing positive integer is 8\n",
    "\n",
    "# min_miss_pos([5, 9, -2, 0, 1, 3, 9, 3, 8, 9]) ➞ 2\n",
    "# # After sorting, list becomes [-2, 0, 1, 3, 3, 5, 8, 9, 9, 9]\n",
    "# # So the smallest missing positive integer is 2\n",
    "\n",
    "# min_miss_pos([0, 4, 4, -1, 9, 4, 5, 2, 10, 7, 6, 3, 10, 9]) ➞ 1\n",
    "# # After sorting, list becomes [-1, 0, 2, 3, 4, 4, 4, 5, 6, 7, 9, 9, 10, 10]\n",
    "# # So the smallest missing positive integer is 1\n",
    "\n",
    "def min_miss_pos(lst):\n",
    "    lst.sort()\n",
    "    print\n",
    "    for i in range(len(lst)):\n",
    "        if i == 0:\n",
    "            if lst[i] > 0:\n",
    "                return 1\n",
    "        else:\n",
    "            if lst[i] > lst[i-1] + 1:\n",
    "                return lst[i-1] + 1\n",
    "    return lst[len(lst)-1] + 1\n",
    "\n",
    "print(min_miss_pos([-2, 6, 4, 5, 7, -1,0, 1, 3, 6, -2, 9, 10, 2, 2]))\n"
   ]
  },
  {
   "cell_type": "code",
   "execution_count": null,
   "metadata": {},
   "outputs": [],
   "source": []
  }
 ],
 "metadata": {
  "interpreter": {
   "hash": "be6b6a6dd5c50eb9dd1d791bb7c5cc38fe0d4861323a9b57f0ae4af49614d244"
  },
  "kernelspec": {
   "display_name": "Python 3.9.10 64-bit (windows store)",
   "language": "python",
   "name": "python3"
  },
  "language_info": {
   "codemirror_mode": {
    "name": "ipython",
    "version": 3
   },
   "file_extension": ".py",
   "mimetype": "text/x-python",
   "name": "python",
   "nbconvert_exporter": "python",
   "pygments_lexer": "ipython3",
   "version": "3.9.10"
  },
  "orig_nbformat": 4
 },
 "nbformat": 4,
 "nbformat_minor": 2
}
