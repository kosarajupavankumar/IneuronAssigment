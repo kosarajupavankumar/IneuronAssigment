{
 "cells": [
  {
   "cell_type": "code",
   "execution_count": 3,
   "metadata": {},
   "outputs": [
    {
     "name": "stdout",
     "output_type": "stream",
     "text": [
      "8\n",
      "0\n",
      "2\n",
      "0\n"
     ]
    }
   ],
   "source": [
    "# 1. Write a function that takes a list of lists and returns the value of all of the symbols in it, where each symbol adds or takes something from the total score. Symbol values:\n",
    "\n",
    "# # = 5\n",
    "# O = 3\n",
    "# X = 1\n",
    "# ! = -1\n",
    "# !! = -3\n",
    "# !!! = -5\n",
    "\n",
    "# A list of lists containing 2 #s, a O, and a !!! would equal (0 + 5 + 5 + 3 - 5) 8.\n",
    "\n",
    "# If the final score is negative, return 0 (e.g. 3 #s, 3 !!s, 2 !!!s and a X would be (0 + 5 + 5 + 5 - 3 - 3 - 3 - 5 - 5 + 1) -3, so return 0.\n",
    "\n",
    "# Examples\n",
    "\n",
    "# check_score([\n",
    "#   [\"#\", \"!\"],\n",
    "#   [\"!!\", \"X\"]\n",
    "# ]) ➞ 2\n",
    "\n",
    "# check_score([\n",
    "#   [\"!!!\", \"O\", \"!\"],\n",
    "#   [\"X\", \"#\", \"!!!\"],\n",
    "#   [\"!!\", \"X\", \"O\"]\n",
    "# ]) ➞ 0\n",
    "\n",
    "\n",
    "\n",
    "def score(list_of_lists):\n",
    "    score = 0\n",
    "    for i in list_of_lists:\n",
    "        for j in i:\n",
    "            if j == '#':\n",
    "                score += 5\n",
    "            elif j == 'O':\n",
    "                score += 3\n",
    "            elif j == 'X':\n",
    "                score += 1\n",
    "            elif j == '!':\n",
    "                score -= 1\n",
    "            elif j == '!!':\n",
    "                score -= 3\n",
    "            elif j == '!!!':\n",
    "                score -= 5\n",
    "    # if score is negative return 0\n",
    "    if score < 0:\n",
    "        return 0\n",
    "    return score\n",
    "\n",
    "print(score([['#','#','O','!!!']]))\n",
    "print(score([['#','#','#','!!','!!','!!','!!!','!!!','X']]))\n",
    "print(score([['#','!'],['!!','X']]))\n",
    "print(score([[\"!!!\", \"O\", \"!\"],[\"X\", \"#\", \"!!!\"],[\"!!\", \"X\", \"O\"]]))\n"
   ]
  },
  {
   "cell_type": "code",
   "execution_count": 5,
   "metadata": {},
   "outputs": [
    {
     "name": "stdout",
     "output_type": "stream",
     "text": [
      "6\n",
      "84\n",
      "120\n"
     ]
    }
   ],
   "source": [
    "# 2. Create a function that takes a variable number of arguments, each argument representing the number of items in a group, and returns the number of permutations (combinations) of items that you could get by taking one item from each group.\n",
    "\n",
    "# Examples\n",
    "\n",
    "# combinations(2, 3) ➞ 6\n",
    "\n",
    "# combinations(3, 7, 4) ➞ 84\n",
    "\n",
    "# combinations(2, 3, 4, 5) ➞ 120\n",
    "\n",
    "def combinations(*args):\n",
    "    from functools import reduce\n",
    "    # if only one argument is passed\n",
    "    if len(args) == 1:\n",
    "        # return the factorial of the argument\n",
    "        return args[0]\n",
    "    # else return the product of the arguments\n",
    "    return reduce(lambda x, y: x * y, args)\n",
    "\n",
    "print(combinations(2, 3))\n",
    "print(combinations(3, 7, 4))\n",
    "print(combinations(2, 3, 4, 5))"
   ]
  },
  {
   "cell_type": "code",
   "execution_count": 9,
   "metadata": {},
   "outputs": [
    {
     "name": "stdout",
     "output_type": "stream",
     "text": [
      ". -.. .- -... -... .. -   -.-. .... .- .-.. .-.. . -. --. .\n",
      ".... . .-.. .--.   -- .   -.-.--\n"
     ]
    }
   ],
   "source": [
    "# 3. Create a function that takes a string as an argument and returns the Morse code equivalent.\n",
    "\n",
    "# Examples\n",
    "\n",
    "# encode_morse(\"EDABBIT CHALLENGE\") ➞ \". -.. .- -... -... .. -   -.-. .... .- .-.. .-.. . -. --. .\"\n",
    "\n",
    "# encode_morse(\"HELP ME !\") ➞ \".... . .-.. .--.   -- .   -.-.--\"\n",
    "\n",
    "# This dictionary can be used for coding:\n",
    "\n",
    "# char_to_dots = {\n",
    "#   'A': '.-', 'B': '-...', 'C': '-.-.', 'D': '-..', 'E': '.', 'F': '..-.',\n",
    "#   'G': '--.', 'H': '....', 'I': '..', 'J': '.---', 'K': '-.-', 'L': '.-..',\n",
    "#   'M': '--', 'N': '-.', 'O': '---', 'P': '.--.', 'Q': '--.-', 'R': '.-.',\n",
    "#   'S': '...', 'T': '-', 'U': '..-', 'V': '...-', 'W': '.--', 'X': '-..-',\n",
    "#   'Y': '-.--', 'Z': '--..', ' ': ' ', '0': '-----',\n",
    "#   '1': '.----', '2': '..---', '3': '...--', '4': '....-', '5': '.....',\n",
    "#   '6': '-....', '7': '--...', '8': '---..', '9': '----.',\n",
    "#   '&': '.-...', \"'\": '.----.', '@': '.--.-.', ')': '-.--.-', '(': '-.--.',\n",
    "#   ':': '---...', ',': '--..--', '=': '-...-', '!': '-.-.--', '.': '.-.-.-',\n",
    "#   '-': '-....-', '+': '.-.-.', '\"': '.-..-.', '?': '..--..', '/': '-..-.'\n",
    "# }\n",
    "\n",
    "def encode_morse(s):\n",
    "    # create a dictionary with morse code\n",
    "    morse_code = {\n",
    "        'A': '.-', 'B': '-...', 'C': '-.-.', 'D': '-..', 'E': '.', 'F': '..-.',\n",
    "        'G': '--.', 'H': '....', 'I': '..', 'J': '.---', 'K': '-.-', 'L': '.-..',\n",
    "        'M': '--', 'N': '-.', 'O': '---', 'P': '.--.', 'Q': '--.-', 'R': '.-.',\n",
    "        'S': '...', 'T': '-', 'U': '..-', 'V': '...-', 'W': '.--', 'X': '-..-',\n",
    "        'Y': '-.--', 'Z': '--..', ' ': ' ', '0': '-----',\n",
    "        '1': '.----', '2': '..---', '3': '...--', '4': '....-', '5': '.....',\n",
    "        '6': '-....', '7': '--...', '8': '---..', '9': '----.',\n",
    "        '&': '.-...', \"'\": '.----.', '@': '.--.-.', ')': '-.--.-', '(': '-.--.',\n",
    "        ':': '---...', ',': '--..--', '=': '-...-', '!': '-.-.--', '.': '.-.-.-',\n",
    "        '-': '-....-', '+': '.-.-.', '\"': '.-..-.', '?': '..--..', '/': '-..-.'\n",
    "    }\n",
    "    # create a list to store the morse code\n",
    "    morse = []\n",
    "    # loop through the string\n",
    "    for i in s:\n",
    "        # append the morse code of the character to the list\n",
    "        morse.append(morse_code[i.upper()])\n",
    "    # join the list with a space\n",
    "    return ' '.join(morse)\n",
    "\n",
    "print(encode_morse(\"EDABBIT CHALLENGE\"))\n",
    "print(encode_morse(\"HELP ME !\"))"
   ]
  },
  {
   "cell_type": "code",
   "execution_count": 13,
   "metadata": {},
   "outputs": [
    {
     "name": "stdout",
     "output_type": "stream",
     "text": [
      "True\n",
      "True\n",
      "False\n"
     ]
    }
   ],
   "source": [
    "# 4.  Write a function that takes a number and returns True if it's a prime; False otherwise. \n",
    "# The number can be 2^64-1 (2 to the power of 63, not XOR). \n",
    "# With the standard technique it would be O(2^64-1), \n",
    "# which is much too large for the 10 second time limit.\n",
    "\n",
    "# Examples\n",
    "\n",
    "# prime(7) ➞ True\n",
    "\n",
    "# prime(56963) ➞ True\n",
    "\n",
    "# prime(5151512515524) ➞ False\n",
    "\n",
    "def prime(n):\n",
    "    # if n is less than 2 return false\n",
    "    if n < 2:\n",
    "        return False\n",
    "    # set the max value to the square root of n\n",
    "    max = n**0.5\n",
    "    # loop through the range of 2 to max\n",
    "    for i in range(2, int(max)+1):\n",
    "        # if n is divisible by i return false\n",
    "        if n % i == 0:\n",
    "            return False\n",
    "    # return true if the loop completes\n",
    "    return True\n",
    "\n",
    "print(prime(7))\n",
    "print(prime(56963))\n",
    "print(prime(5151512515524))"
   ]
  },
  {
   "cell_type": "code",
   "execution_count": 14,
   "metadata": {},
   "outputs": [
    {
     "name": "stdout",
     "output_type": "stream",
     "text": [
      "[False, True, True, False]\n",
      "[False, True, False, True, True]\n",
      "[False, True, True, False]\n"
     ]
    }
   ],
   "source": [
    "# 5.  Create a function that converts a word to a bitstring and then to a boolean list based on the following criteria:\n",
    "\n",
    "#     1. Locate the position of the letter in the English alphabet (from 1 to 26).\n",
    "#     2. Odd positions will be represented as 1 and 0 otherwise.\n",
    "#     3. Convert the represented positions to boolean values, 1 for True and 0 for False.\n",
    "#     4. Store the conversions into an array.\n",
    "\n",
    "#  Examples\n",
    "\n",
    "# to_boolean_list(\"deep\") ➞ [False, True, True, False]\n",
    "# # deep converts to 0110\n",
    "# # d is the 4th alphabet - 0\n",
    "# # e is the 5th alphabet - 1\n",
    "# # e is the 5th alphabet - 1\n",
    "# # p is the 16th alphabet - 0\n",
    "\n",
    "# to_boolean_list(\"loves\") ➞ [False, True, False, True, True]\n",
    "\n",
    "# to_boolean_list(\"tesh\") ➞ [False, True, True, False]\n",
    "\n",
    "def to_boolean_list(word):\n",
    "    # create a list to store the boolean values\n",
    "    boolean_list = []\n",
    "    # loop through the word\n",
    "    for i in word:\n",
    "        # convert the letter to a number\n",
    "        number = ord(i) - 96\n",
    "        # if the number is odd append 1 to the list\n",
    "        if number % 2 == 1:\n",
    "            boolean_list.append(True)\n",
    "        # if the number is even append 0 to the list\n",
    "        else:\n",
    "            boolean_list.append(False)\n",
    "    # return the list\n",
    "    return boolean_list\n",
    "\n",
    "print(to_boolean_list(\"deep\"))\n",
    "print(to_boolean_list(\"loves\"))\n",
    "print(to_boolean_list(\"tesh\"))\n"
   ]
  }
 ],
 "metadata": {
  "interpreter": {
   "hash": "d0a86f05f82fde68ac0efb950d36470c82cb6a99d0792a6304fb56a579ae2f5b"
  },
  "kernelspec": {
   "display_name": "Python 3.9.6 64-bit",
   "language": "python",
   "name": "python3"
  },
  "language_info": {
   "codemirror_mode": {
    "name": "ipython",
    "version": 3
   },
   "file_extension": ".py",
   "mimetype": "text/x-python",
   "name": "python",
   "nbconvert_exporter": "python",
   "pygments_lexer": "ipython3",
   "version": "3.9.6"
  },
  "orig_nbformat": 4
 },
 "nbformat": 4,
 "nbformat_minor": 2
}
