{
 "cells": [
  {
   "cell_type": "code",
   "execution_count": 14,
   "metadata": {},
   "outputs": [
    {
     "name": "stdout",
     "output_type": "stream",
     "text": [
      "[['A', 'B', 'A'], ['A', 'B', 'A'], ['A', 'B', 'A']]\n",
      "[['c', 'd', 'c', 'd'], ['c', 'd', 'c', 'd'], ['c', 'd', 'c', 'd'], ['c', 'd', 'c', 'd']]\n"
     ]
    }
   ],
   "source": [
    "# 1. Create a checker board generator, which takes as inputs n and 2 elements to generate an n x n checkerboard with those two elements as alternating squares.\n",
    "\n",
    "# Examples\n",
    "\n",
    "\n",
    "# checker_board(3, \"A\", \"B\") ➞ [\n",
    "#   [\"A\", \"B\", \"A\"],\n",
    "#   [\"B\", \"A\", \"B\"],\n",
    "#   [\"A\", \"B\", \"A\"]\n",
    "# ]\n",
    "\n",
    "# checker_board(4, \"c\", \"d\") ➞ [\n",
    "#   [\"c\", \"d\", \"c\", \"d\"],\n",
    "#   [\"d\", \"c\", \"d\", \"c\"],\n",
    "#   [\"c\", \"d\", \"c\", \"d\"],\n",
    "#   [\"d\", \"c\", \"d\", \"c\"]\n",
    "# ]\n",
    "\n",
    "# checker_board(4, \"c\", \"c\") ➞ \"invalid\"\n",
    "\n",
    "def checker_board(n, a, b):\n",
    "    if n < 1 or len(a) != len(b):\n",
    "        return \"invalid\"\n",
    "    return [[a if i % 2 == 0 else b for i in range(n)] for j in range(n)]\n",
    "\n",
    "print(checker_board(3, \"A\", \"B\"))\n",
    "print(checker_board(4, \"c\", \"d\"))"
   ]
  },
  {
   "cell_type": "code",
   "execution_count": 19,
   "metadata": {},
   "outputs": [
    {
     "name": "stdout",
     "output_type": "stream",
     "text": [
      "True\n",
      "False\n",
      "True\n",
      "True\n"
     ]
    }
   ],
   "source": [
    "# 2. A string is an almost-palindrome if, by changing only one character, \n",
    "# you can make it a palindrome. Create a function that returns True \n",
    "# if a string is an almost-palindrome and False otherwise.\n",
    "\n",
    "# Examples\n",
    "\n",
    "# almost_palindrome(\"abcdcbg\") ➞ True\n",
    "# # Transformed to \"abcdcba\" by changing \"g\" to \"a\".\n",
    "\n",
    "# almost_palindrome(\"abccia\") ➞ True\n",
    "# # Transformed to \"abccba\" by changing \"i\" to \"b\".\n",
    "\n",
    "# almost_palindrome(\"abcdaaa\") ➞ False\n",
    "# # Can't be transformed to a palindrome in exactly 1 turn.\n",
    "\n",
    "# almost_palindrome(\"1234312\") ➞ False\n",
    "\n",
    "def almost_palindrome(string):\n",
    "    if len(string) % 2 == 0:\n",
    "        return False\n",
    "    else:\n",
    "        for i in range(len(string)):\n",
    "            if string[i] != string[len(string)-1-i]:\n",
    "                return True\n",
    "    return False\n",
    "\n",
    "\n",
    "print(almost_palindrome(\"abcdcbg\"))\n",
    "print(almost_palindrome(\"abccia\"))\n",
    "print(almost_palindrome(\"abcdaaa\"))\n",
    "print(almost_palindrome(\"1234312\"))"
   ]
  },
  {
   "cell_type": "code",
   "execution_count": 21,
   "metadata": {},
   "outputs": [
    {
     "name": "stdout",
     "output_type": "stream",
     "text": [
      "4\n",
      "8\n",
      "10\n"
     ]
    }
   ],
   "source": [
    "# 3. Create a function that finds how many prime numbers there are, up to the given integer.\n",
    "\n",
    "# Examples\n",
    "\n",
    "# prime_numbers(10) ➞ 4\n",
    "# # 2, 3, 5 and 7\n",
    "\n",
    "# prime_numbers(20) ➞ 8\n",
    "# # 2, 3, 5, 7, 11, 13, 17 and 19\n",
    "\n",
    "# prime_numbers(30) ➞ 10\n",
    "# # 2, 3, 5, 7, 11, 13, 17, 19, 23 and 29\n",
    "\n",
    "\n",
    "def prime_numbers(n):\n",
    "    count = 0\n",
    "    for i in range(2, n):\n",
    "        for j in range(2, i):\n",
    "            if i % j == 0:\n",
    "                break\n",
    "        else:\n",
    "            count += 1\n",
    "    return count\n",
    "\n",
    "print(prime_numbers(10))\n",
    "print(prime_numbers(20))\n",
    "print(prime_numbers(30))"
   ]
  },
  {
   "cell_type": "code",
   "execution_count": 37,
   "metadata": {},
   "outputs": [
    {
     "name": "stdout",
     "output_type": "stream",
     "text": [
      "True\n",
      "True\n",
      "True\n"
     ]
    }
   ],
   "source": [
    "# 4. You are in the process of creating a chat application and want to add an anonymous name feature. \n",
    "# This anonymous name feature will create an alias that consists of two capitalized words beginning with the same letter as the users first name.\n",
    "\n",
    "# Create a function that determines if the list of users is mapped to a list of anonymous names correctly.\n",
    "\n",
    "# Examples\n",
    "\n",
    "# is_correct_aliases([\"Adrian M.\", \"Harriet S.\", \"Mandy T.\"], [\"Amazing Artichoke\", \"Hopeful Hedgehog\", \"Marvelous Mouse\"]) ➞ True\n",
    "\n",
    "# is_correct_aliases([\"Rachel F.\", \"Pam G.\", \"Fred Z.\", \"Nancy K.\"], [\"Reassuring Rat\", \"Peaceful Panda\", \"Fantastic Frog\", \"Notable Nickel\"]) ➞ True\n",
    "\n",
    "# is_correct_aliases([\"Beth T.\"], [\"Brandishing Mimosa\"]) ➞ False\n",
    "# # Both words in \"Brandishing Mimosa\" should begin with a \"B\" - \"Brandishing Beaver\" would do the trick.\n",
    "\n",
    "def is_correct_aliases(names, aliases):\n",
    "    return all(n[0].upper() == a[0].upper() for n, a in zip(names, aliases))\n",
    "\n",
    "\n",
    "print(is_correct_aliases([\"Adrian M.\", \"Harriet S.\", \"Mandy T.\"], [\"Amazing Artichoke\", \"Hopeful Hedgehog\", \"Marvelous Mouse\"]))\n",
    "print(is_correct_aliases([\"Rachel F.\", \"Pam G.\", \"Fred Z.\", \"Nancy K.\"], [\"Reassuring Rat\", \"Peaceful Panda\", \"Fantastic Frog\", \"Notable Nickel\"]))\n",
    "print(is_correct_aliases([\"Beth T.\"], [\"Brandishing Mimosa\"]))\n",
    "\n",
    "\n"
   ]
  },
  {
   "cell_type": "code",
   "execution_count": null,
   "metadata": {},
   "outputs": [],
   "source": []
  }
 ],
 "metadata": {
  "interpreter": {
   "hash": "be6b6a6dd5c50eb9dd1d791bb7c5cc38fe0d4861323a9b57f0ae4af49614d244"
  },
  "kernelspec": {
   "display_name": "Python 3.9.10 64-bit (windows store)",
   "language": "python",
   "name": "python3"
  },
  "language_info": {
   "codemirror_mode": {
    "name": "ipython",
    "version": 3
   },
   "file_extension": ".py",
   "mimetype": "text/x-python",
   "name": "python",
   "nbconvert_exporter": "python",
   "pygments_lexer": "ipython3",
   "version": "3.9.10"
  },
  "orig_nbformat": 4
 },
 "nbformat": 4,
 "nbformat_minor": 2
}
