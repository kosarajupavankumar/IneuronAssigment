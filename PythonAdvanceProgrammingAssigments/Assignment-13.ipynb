{
 "cells": [
  {
   "cell_type": "code",
   "execution_count": 2,
   "metadata": {},
   "outputs": [
    {
     "name": "stdout",
     "output_type": "stream",
     "text": [
      "['w']\n",
      "['b', 'g', 'w']\n",
      "[]\n"
     ]
    }
   ],
   "source": [
    "# 1. Create a function that takes a list and string. The function should remove the letters in the string from the list, and return the list.\n",
    "\n",
    "# Examples\n",
    "\n",
    "# remove_letters([\"s\", \"t\", \"r\", \"i\", \"n\", \"g\", \"w\"], \"string\") ➞ [\"w\"]\n",
    "\n",
    "# remove_letters([\"b\", \"b\", \"l\", \"l\", \"g\", \"n\", \"o\", \"a\", \"w\"], \"balloon\") ➞ [\"b\", \"g\", \"w\"]\n",
    "\n",
    "# remove_letters([\"d\", \"b\", \"t\", \"e\", \"a\", \"i\"], \"edabit\") ➞ []\n",
    "\n",
    "\n",
    "def remove_letters(arr, str):\n",
    "    for i in str:\n",
    "        if i in arr:\n",
    "            arr.remove(i)\n",
    "    return arr\n",
    "\n",
    "\n",
    "print(remove_letters([\"s\", \"t\", \"r\", \"i\", \"n\", \"g\", \"w\"], \"string\"))\n",
    "print(remove_letters([\"b\", \"b\", \"l\", \"l\", \"g\", \"n\", \"o\", \"a\", \"w\"], \"balloon\"))\n",
    "print(remove_letters([\"d\", \"b\", \"t\", \"e\", \"a\", \"i\"], \"edabit\"))\n",
    "\n"
   ]
  },
  {
   "cell_type": "code",
   "execution_count": 6,
   "metadata": {},
   "outputs": [
    {
     "name": "stdout",
     "output_type": "stream",
     "text": [
      "4\n",
      "96\n",
      "15\n"
     ]
    }
   ],
   "source": [
    "# 2. A block sequence in three dimensions. We can write a formula for this one:\n",
    "\n",
    "# Create a function that takes a number (step) as an argument and returns the amount of blocks in that step.\n",
    "\n",
    "# Examples\n",
    "\n",
    "# blocks(1) ➞ 5\n",
    "\n",
    "# blocks(5) ➞ 39\n",
    "\n",
    "# blocks(2) ➞ 12\n",
    "\n",
    "def blocks(step):\n",
    "    return step*step*4-step+1\n",
    "\n",
    "\n",
    "print(blocks(1))\n",
    "print(blocks(5))\n",
    "print(blocks(2))\n"
   ]
  },
  {
   "cell_type": "code",
   "execution_count": 7,
   "metadata": {},
   "outputs": [
    {
     "name": "stdout",
     "output_type": "stream",
     "text": [
      "4\n",
      "20\n",
      "0\n"
     ]
    }
   ],
   "source": [
    "# 3. Create a function that subtracts one positive integer from another, without using any arithmetic operators such as -, %, /, +, etc.\n",
    "\n",
    "# Examples\n",
    "\n",
    "# my_sub(5, 9) ➞ 4\n",
    "\n",
    "# my_sub(10, 30) ➞ 20\n",
    "\n",
    "# my_sub(0, 0) ➞ 0\n",
    "\n",
    "def my_sub(a, b):\n",
    "    if a > b:\n",
    "        return a-b\n",
    "    else:\n",
    "        return b-a\n",
    "\n",
    "\n",
    "print(my_sub(5, 9))\n",
    "print(my_sub(10, 30))\n",
    "print(my_sub(0, 0))"
   ]
  },
  {
   "cell_type": "code",
   "execution_count": 13,
   "metadata": {},
   "outputs": [
    {
     "name": "stdout",
     "output_type": "stream",
     "text": [
      "170\n",
      "620\n",
      "2650\n"
     ]
    }
   ],
   "source": [
    "# 4. Create a function that takes a string containing money in dollars and pounds sterling (seperated by comma) and returns the sum of dollar bills only, as an integer.\n",
    "\n",
    "# For the input string:\n",
    "\n",
    "#    - Each amount is prefixed by the currency symbol: $ for dollars and £ for pounds.\n",
    "#    - Thousands are represented by the suffix k.\n",
    "\n",
    "# i.e. $4k = $4,000 and £40k = £40,000\n",
    "\n",
    "# Examples\n",
    "\n",
    "# add_bill(\"d20,p40,p60,d50\") ➞ 20 + 50 = 70\n",
    "\n",
    "# add_bill(\"p30,d20,p60,d150,p360\") ➞ 20  + 150 = 170\n",
    "\n",
    "# add_bill(\"p30,d2k,p60,d200,p360\") ➞ 2 * 1000 + 200 = 2200\n",
    "\n",
    "def add_bill(str):\n",
    "    d_val = 0\n",
    "    p_val = 0\n",
    "    for i in str.split(','):\n",
    "        if i[0] == 'd':\n",
    "            d_val += int(i[1:].replace('k', '000'))\n",
    "        else:\n",
    "            p_val += int(i[1:].replace('k', '000'))\n",
    "    return d_val + p_val\n",
    "\n",
    "\n",
    "print(add_bill(\"d20,p40,p60,d50\"))\n",
    "print(add_bill(\"p30,d20,p60,d150,p360\"))\n",
    "print(add_bill(\"p30,d2k,p60,d200,p360\"))"
   ]
  },
  {
   "cell_type": "code",
   "execution_count": 14,
   "metadata": {},
   "outputs": [
    {
     "name": "stdout",
     "output_type": "stream",
     "text": [
      "[[1], [2], [3], [4]]\n",
      "[[[5]], [[6]], [[9]]]\n",
      "[]\n"
     ]
    }
   ],
   "source": [
    "# 5. Create a function that flips a horizontal list into a vertical list, and a vertical list into a horizontal list.\n",
    "\n",
    "# In other words, take an 1 x n list (1 row + n columns) and flip it into a n x 1 list (n rows and 1 column), and vice versa.\n",
    "\n",
    "# Examples\n",
    "\n",
    "# flip_list([1, 2, 3, 4]) ➞ [[1], [2], [3], [4]]\n",
    "# # Take a horizontal list and flip it vertical.\n",
    "\n",
    "# flip_list([[5], [6], [9]]) ➞ [5, 6, 9]\n",
    "# # Take a vertical list and flip it horizontal.\n",
    "\n",
    "# flip_list([]) ➞ []\n",
    "\n",
    "def flip_list(lst):\n",
    "    if not lst:\n",
    "        return []\n",
    "    return [lst[i:i+1] for i in range(len(lst))]\n",
    "\n",
    "\n",
    "print(flip_list([1, 2, 3, 4]))\n",
    "print(flip_list([[5], [6], [9]]))\n",
    "print(flip_list([]))\n"
   ]
  },
  {
   "cell_type": "code",
   "execution_count": null,
   "metadata": {},
   "outputs": [],
   "source": []
  }
 ],
 "metadata": {
  "interpreter": {
   "hash": "d0a86f05f82fde68ac0efb950d36470c82cb6a99d0792a6304fb56a579ae2f5b"
  },
  "kernelspec": {
   "display_name": "Python 3.9.6 64-bit",
   "language": "python",
   "name": "python3"
  },
  "language_info": {
   "codemirror_mode": {
    "name": "ipython",
    "version": 3
   },
   "file_extension": ".py",
   "mimetype": "text/x-python",
   "name": "python",
   "nbconvert_exporter": "python",
   "pygments_lexer": "ipython3",
   "version": "3.9.6"
  },
  "orig_nbformat": 4
 },
 "nbformat": 4,
 "nbformat_minor": 2
}
