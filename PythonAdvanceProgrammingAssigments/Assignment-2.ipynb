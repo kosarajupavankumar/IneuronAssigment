{
 "cells": [
  {
   "cell_type": "code",
   "execution_count": 5,
   "metadata": {},
   "outputs": [
    {
     "name": "stdout",
     "output_type": "stream",
     "text": [
      "1\n",
      "5\n",
      "12\n",
      "92\n"
     ]
    }
   ],
   "source": [
    "# 1. Write a function that takes a positive integer num and calculates how many dots exist in a pentagonal shape around the center dot on the Nth iteration.\n",
    "\n",
    "# In the image below you can see the first iteration is only a single dot. On the second, there are 6 dots. On the third, there are 16 dots, and on the fourth there are 31 dots.\n",
    "# Return the number of dots that exist in the whole pentagon on the Nth iteration.\n",
    "\n",
    "# Examples\n",
    "\n",
    "# pentagonal(1) ➞ 1\n",
    "\n",
    "# pentagonal(2) ➞ 6\n",
    "\n",
    "# pentagonal(3) ➞ 16\n",
    "\n",
    "# pentagonal(8) ➞ 141\n",
    "\n",
    "def pentagonal(num):\n",
    "    return (num*(3*num - 1))//2\n",
    "\n",
    "\n",
    "print(pentagonal(1))\n",
    "print(pentagonal(2))\n",
    "print(pentagonal(3))\n",
    "print(pentagonal(8))"
   ]
  },
  {
   "cell_type": "code",
   "execution_count": 6,
   "metadata": {},
   "outputs": [
    {
     "name": "stdout",
     "output_type": "stream",
     "text": [
      "1lpp0\n"
     ]
    }
   ],
   "source": [
    "# 2.  Make a function that encrypts a given input with these steps:\n",
    "\n",
    "# Input: \"apple\"\n",
    "\n",
    "# Step 1: Reverse the input: \"elppa\"\n",
    "\n",
    "# Step 2: Replace all vowels using the following chart:\n",
    "\n",
    "# a => 0\n",
    "# e => 1\n",
    "# i => 2\n",
    "# o => 2\n",
    "# u => 3\n",
    "\n",
    "# # \"1lpp0\"\n",
    "\n",
    "def encrypt(text):\n",
    "    vowels = ['a', 'e', 'i', 'o', 'u']\n",
    "    new_text = \"\"\n",
    "    for i in text:\n",
    "        if i in vowels:\n",
    "            new_text += str(vowels.index(i))\n",
    "        else:\n",
    "            new_text += i\n",
    "    return new_text[::-1]\n",
    "\n",
    "\n",
    "print(encrypt(\"apple\"))"
   ]
  },
  {
   "cell_type": "code",
   "execution_count": 7,
   "metadata": {},
   "outputs": [
    {
     "name": "stdout",
     "output_type": "stream",
     "text": [
      "b0n0n0aca\n",
      "k0r0c0aca\n",
      "b4r0kaca\n",
      "0lp0c0aca\n"
     ]
    }
   ],
   "source": [
    "# Step 3: Add \"aca\" to the end of the word: \"1lpp0aca\"\n",
    "\n",
    "# Output: \"1lpp0aca\"\n",
    "\n",
    "# Examples\n",
    "\n",
    "# encrypt(\"banana\") ➞ \"0n0n0baca\"\n",
    "\n",
    "# encrypt(\"karaca\") ➞ \"0c0r0kaca\"\n",
    "\n",
    "# encrypt(\"burak\") ➞ \"k0r3baca\"\n",
    "\n",
    "# encrypt(\"alpaca\") ➞ \"0c0pl0aca\"\n",
    "\n",
    "def encrypt(text):\n",
    "    vowels = ['a', 'e', 'i', 'o', 'u']\n",
    "    new_text = \"\"\n",
    "    for i in text:\n",
    "        if i in vowels:\n",
    "            new_text += str(vowels.index(i))\n",
    "        else:\n",
    "            new_text += i\n",
    "    return new_text + \"aca\"\n",
    "\n",
    "print(encrypt(\"banana\"))\n",
    "print(encrypt(\"karaca\"))\n",
    "print(encrypt(\"burak\"))\n",
    "print(encrypt(\"alpaca\"))"
   ]
  },
  {
   "cell_type": "code",
   "execution_count": 8,
   "metadata": {},
   "outputs": [
    {
     "name": "stdout",
     "output_type": "stream",
     "text": [
      "True\n",
      "True\n",
      "False\n"
     ]
    }
   ],
   "source": [
    "# 3. Given the month and year as numbers, return whether that month contains a Friday 13th.(i.e You can check Python's datetime module)\n",
    "\n",
    "# Examples\n",
    "\n",
    "# has_friday_13(3, 2020) ➞ True\n",
    "\n",
    "# has_friday_13(10, 2017) ➞ True\n",
    "\n",
    "# has_friday_13(1, 1985) ➞ False\n",
    "\n",
    "def has_friday_13(month, year):\n",
    "    import datetime\n",
    "    return datetime.date(year, month, 13).weekday() == 4\n",
    "\n",
    "\n",
    "print(has_friday_13(3, 2020))\n",
    "print(has_friday_13(10, 2017))\n",
    "print(has_friday_13(1, 1985))"
   ]
  },
  {
   "cell_type": "code",
   "execution_count": 13,
   "metadata": {},
   "outputs": [
    {
     "name": "stdout",
     "output_type": "stream",
     "text": [
      "5\n"
     ]
    }
   ],
   "source": [
    "# 4. Write a regular expression that will help us count how many bad cookies are produced every day. \n",
    "# You must use RegEx negative lookbehind.\n",
    "\n",
    "# Example\n",
    "\n",
    "# lst = [\"bad cookie\", \"good cookie\", \"bad cookie\", \"good cookie\", \"good cookie\"]\n",
    "# pattern = \"yourregularexpressionhere\"\n",
    "\n",
    "# len(re.findall(pattern, \", \".join(lst))) ➞ 2\n",
    "\n",
    "def bad_cookie(lst):\n",
    "    import re\n",
    "    pattern = r\"(?<!good)cookie\"\n",
    "    return len(re.findall(pattern, \", \".join(lst)))\n",
    "\n",
    "\n",
    "print(bad_cookie([\"bad cookie\", \"good cookie\", \"bad cookie\", \"good cookie\", \"good cookie\"]))\n"
   ]
  },
  {
   "cell_type": "code",
   "execution_count": 17,
   "metadata": {},
   "outputs": [
    {
     "name": "stdout",
     "output_type": "stream",
     "text": [
      "{'cows'}\n",
      "{'tables'}\n",
      "set()\n"
     ]
    }
   ],
   "source": [
    "# 5. Given a list of words in the singular form, return a set of those words in the plural form if they appear more than once in the list.\n",
    "\n",
    "# Examples\n",
    "\n",
    "# pluralize([\"cow\", \"pig\", \"cow\", \"cow\"]) ➞ { \"cows\", \"pig\" }\n",
    "\n",
    "# pluralize([\"table\", \"table\", \"table\"]) ➞ { \"tables\" }\n",
    "\n",
    "# pluralize([\"chair\", \"pencil\", \"arm\"]) ➞ { \"chair\", \"pencil\", \"arm\" }\n",
    "\n",
    "\n",
    "def pluralize(lst):\n",
    "    return set(i + \"s\" for i in lst if lst.count(i) > 1)\n",
    "\n",
    "\n",
    "print(pluralize([\"cow\", \"pig\", \"cow\", \"cow\"]))\n",
    "print(pluralize([\"table\", \"table\", \"table\"]))\n",
    "print(pluralize([\"chair\", \"pencil\", \"arm\"]))\n"
   ]
  }
 ],
 "metadata": {
  "interpreter": {
   "hash": "d0a86f05f82fde68ac0efb950d36470c82cb6a99d0792a6304fb56a579ae2f5b"
  },
  "kernelspec": {
   "display_name": "Python 3.9.6 64-bit",
   "language": "python",
   "name": "python3"
  },
  "language_info": {
   "codemirror_mode": {
    "name": "ipython",
    "version": 3
   },
   "file_extension": ".py",
   "mimetype": "text/x-python",
   "name": "python",
   "nbconvert_exporter": "python",
   "pygments_lexer": "ipython3",
   "version": "3.9.6"
  },
  "orig_nbformat": 4
 },
 "nbformat": 4,
 "nbformat_minor": 2
}
