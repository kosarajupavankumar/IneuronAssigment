{
 "cells": [
  {
   "cell_type": "code",
   "execution_count": 3,
   "metadata": {},
   "outputs": [
    {
     "name": "stdout",
     "output_type": "stream",
     "text": [
      "[7, 3, 11]\n",
      "[10007, 1009]\n",
      "[1009, 3, 61, 1087, 1091, 1093, 1097]\n"
     ]
    }
   ],
   "source": [
    "# 1. Create a function that takes a list and returns a new list containing only prime numbers.\n",
    "\n",
    "# Examples\n",
    "\n",
    "# filter_primes([7, 9, 3, 9, 10, 11, 27]) ➞ [7, 3, 11]\n",
    "\n",
    "# filter_primes([10007, 1009, 1007, 27, 147, 77, 1001, 70]) ➞ [10007, 1009]\n",
    "\n",
    "# filter_primes([1009, 10, 10, 10, 3, 33, 9, 4, 1, 61, 63, 69, 1087, 1091, 1093, 1097]) ➞ [1009, 3, 61, 1087, 1091, 1093, 1097]\n",
    "\n",
    "\n",
    "def filter_primes(lst):\n",
    "    primes = []\n",
    "    for num in lst:\n",
    "        if num > 1:\n",
    "            for i in range(2, num):\n",
    "                if (num % i) == 0:\n",
    "                    break\n",
    "            else:\n",
    "                primes.append(num)\n",
    "    return primes\n",
    "\n",
    "print(filter_primes([7, 9, 3, 9, 10, 11, 27]))\n",
    "print(filter_primes([10007, 1009, 1007, 27, 147, 77, 1001, 70]))\n",
    "print(filter_primes([1009, 10, 10, 10, 3, 33, 9, 4, 1, 61, 63, 69, 1087, 1091, 1093, 1097]))"
   ]
  },
  {
   "cell_type": "code",
   "execution_count": 18,
   "metadata": {},
   "outputs": [
    {
     "name": "stdout",
     "output_type": "stream",
     "text": [
      "[0, 1, 1, 1, 7, 5, 5, 4, 4]\n",
      "[0, 1, 1, 6, 4, 4, 3]\n",
      "[0, 1, 5, 3, 3]\n",
      "[0]\n"
     ]
    }
   ],
   "source": [
    "# 2. Once a water balloon pops, is soaks the area around it. The ground gets drier the further away you travel from the balloon.\n",
    "\n",
    "# The effect of a water balloon popping can be modeled using a list. Create a function that takes a list which takes the pre-pop state and returns the state after the balloon is popped. The pre-pop state will contain at most a single balloon, whose size is represented by the only non-zero element.\n",
    "\n",
    "# Examples\n",
    "\n",
    "# pop([0, 0, 0, 0, 4, 0, 0, 0, 0]) ➞ [0, 1, 2, 3, 4, 3, 2, 1, 0]\n",
    "\n",
    "# pop([0, 0, 0, 3, 0, 0, 0]) ➞ [0, 1, 2, 3, 2, 1, 0]\n",
    "\n",
    "# pop([0, 0, 2, 0, 0]) ➞ [0, 1, 2, 1, 0]\n",
    "\n",
    "# pop([0]) ➞ [0]\n",
    "\n",
    "def pop(lst):\n",
    "    for i in range(len(lst)):\n",
    "        if lst[i] != 0:\n",
    "            for j in range(i - lst[i], i + lst[i] + 1):\n",
    "                if j > 0 and j < len(lst):\n",
    "                    lst[j] += 1\n",
    "                else:\n",
    "                    continue\n",
    "    return lst\n",
    "\n",
    "print(pop([0, 0, 0, 0, 4, 0, 0, 0, 0]))\n",
    "print(pop([0, 0, 0, 3, 0, 0, 0]))\n",
    "print(pop([0, 0, 2, 0, 0]))\n",
    "print(pop([0]))"
   ]
  },
  {
   "cell_type": "code",
   "execution_count": 19,
   "metadata": {},
   "outputs": [
    {
     "name": "stdout",
     "output_type": "stream",
     "text": [
      "LOVES ME, LOVES ME NOT, LOVES ME\n",
      "LOVES ME, LOVES ME NOT, LOVES ME, LOVES ME NOT, LOVES ME, LOVES ME NOT\n",
      "LOVES ME\n"
     ]
    }
   ],
   "source": [
    "# 3. \"Loves me, loves me not\" is a traditional game in which a person plucks off all the petals of a flower one by one, saying the phrase \"Loves me\" and \"Loves me not\" when determining whether the one that they love, loves them back.\n",
    "\n",
    "# Given a number of petals, return a string which repeats the phrases \"Loves me\" and \"Loves me not\" for every alternating petal, and return the last phrase in all caps. Remember to put a comma and space between phrases.\n",
    "\n",
    "# Examples\n",
    "\n",
    "# loves_me(3) ➞ \"Loves me, Loves me not, LOVES ME\"\n",
    "\n",
    "# loves_me(6) ➞ \"Loves me, Loves me not, Loves me, Loves me not, Loves me, LOVES ME NOT\"\n",
    "\n",
    "# loves_me(1) ➞ \"LOVES ME\"\n",
    "\n",
    "def loves_me(petals):\n",
    "    phrase = \"\"\n",
    "    for i in range(petals):\n",
    "        if i % 2 == 0:\n",
    "            phrase += \"Loves me, \"\n",
    "        else:\n",
    "            phrase += \"Loves me not, \"\n",
    "    return phrase.upper()[:-2]\n",
    "\n",
    "print(loves_me(3))\n",
    "print(loves_me(6))\n",
    "print(loves_me(1))"
   ]
  },
  {
   "cell_type": "code",
   "execution_count": 21,
   "metadata": {},
   "outputs": [
    {
     "name": "stdout",
     "output_type": "stream",
     "text": [
      "['832u32', '2344b', '932c']\n",
      "['11d', 'c2345', '78b', '99a']\n",
      "['304q2', '572z', '5y5']\n",
      "[]\n"
     ]
    }
   ],
   "source": [
    "# 4. Write a function that sorts each string in a list by the letter in alphabetic ascending order (a-z).\n",
    "\n",
    "# Examples\n",
    "\n",
    "# sort_by_letter([\"932c\", \"832u32\", \"2344b\"])\n",
    "# ➞ [\"2344b\", \"932c\", \"832u32\"]\n",
    "\n",
    "# sort_by_letter([\"99a\", \"78b\", \"c2345\", \"11d\"])\n",
    "# ➞ [\"99a\", \"78b\", \"c2345\", \"11d\"]\n",
    "\n",
    "# sort_by_letter([\"572z\", \"5y5\", \"304q2\"])\n",
    "# ➞ [\"304q2\", \"5y5\", \"572z\"]\n",
    "\n",
    "# sort_by_letter([])\n",
    "# ➞ []\n",
    "\n",
    "\n",
    "def sort_by_letter(lst):\n",
    "    return sorted(lst, key=lambda x: sorted(x))\n",
    "\n",
    "print(sort_by_letter([\"932c\", \"832u32\", \"2344b\"]))\n",
    "print(sort_by_letter([\"99a\", \"78b\", \"c2345\", \"11d\"]))\n",
    "print(sort_by_letter([\"572z\", \"5y5\", \"304q2\"]))\n",
    "print(sort_by_letter([]))"
   ]
  },
  {
   "cell_type": "code",
   "execution_count": 25,
   "metadata": {},
   "outputs": [
    {
     "name": "stdout",
     "output_type": "stream",
     "text": [
      "C\n"
     ]
    }
   ],
   "source": [
    "# 5. There are three cups on a table, at positions A, B, and C. At the start, there is a ball hidden under the cup at position B.\n",
    "# However, I perform several swaps on the cups, which is notated as two letters. For example, if I swap the cups at positions A and B, I could notate this as AB or BA.\n",
    "\n",
    "# Create a function that returns the letter position that the ball is at, once I finish swapping the cups. The swaps will be given to you as a list.\n",
    "\n",
    "# Example\n",
    "\n",
    "# cup_swapping([\"AB\", \"CA\", \"AB\"]) ➞ \"C\"\n",
    "\n",
    "# # Ball begins at position B.\n",
    "# # Cups A and B swap, so the ball is at position A.\n",
    "# # Cups C and A swap, so the ball is at position C.\n",
    "# # Cups A and B swap, but the ball is at position C, so it doesn't move.\n",
    "\n",
    "def cup_swapping(lst):\n",
    "    for swap in lst:\n",
    "        if swap[0] == \"A\":\n",
    "            if swap[1] == \"B\":\n",
    "                swap = \"C\"\n",
    "            else:\n",
    "                swap = \"A\"\n",
    "        elif swap[0] == \"B\":\n",
    "            if swap[1] == \"A\":\n",
    "                swap = \"C\"\n",
    "            else:\n",
    "                swap = \"B\"\n",
    "        else:\n",
    "            if swap[1] == \"A\":\n",
    "                swap = \"B\"\n",
    "            else:\n",
    "                swap = \"A\"\n",
    "    return swap\n",
    "\n",
    "print(cup_swapping([\"AB\", \"CA\", \"AB\"]))\n",
    "\n"
   ]
  }
 ],
 "metadata": {
  "interpreter": {
   "hash": "d0a86f05f82fde68ac0efb950d36470c82cb6a99d0792a6304fb56a579ae2f5b"
  },
  "kernelspec": {
   "display_name": "Python 3.9.6 64-bit",
   "language": "python",
   "name": "python3"
  },
  "language_info": {
   "codemirror_mode": {
    "name": "ipython",
    "version": 3
   },
   "file_extension": ".py",
   "mimetype": "text/x-python",
   "name": "python",
   "nbconvert_exporter": "python",
   "pygments_lexer": "ipython3",
   "version": "3.9.6"
  },
  "orig_nbformat": 4
 },
 "nbformat": 4,
 "nbformat_minor": 2
}
