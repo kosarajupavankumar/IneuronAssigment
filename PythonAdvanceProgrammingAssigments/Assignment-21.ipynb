{
 "cells": [
  {
   "cell_type": "code",
   "execution_count": 5,
   "metadata": {},
   "outputs": [
    {
     "name": "stdout",
     "output_type": "stream",
     "text": [
      "0\n",
      "0\n",
      "2\n"
     ]
    }
   ],
   "source": [
    "# 1. Given a sentence, return the number of words which have the same first and last letter.\n",
    "\n",
    "# Examples\n",
    "\n",
    "# count_same_ends(\"Pop! goes the balloon\") ➞ 1\n",
    "\n",
    "# count_same_ends(\"And the crowd goes wild!\") ➞ 0\n",
    "\n",
    "# count_same_ends(\"No I am not in a gang.\") ➞ 1\n",
    "\n",
    "def count_same_ends(sentence):\n",
    "    count = 0\n",
    "    for word in sentence.split():\n",
    "        if word[0] == word[-1]:\n",
    "            count += 1\n",
    "    return count\n",
    "\n",
    "print(count_same_ends(\"Pop! goes the balloon\"))\n",
    "print(count_same_ends(\"And the crowd goes wild!\"))\n",
    "print(count_same_ends(\"No I am not in a gang.\"))"
   ]
  },
  {
   "cell_type": "code",
   "execution_count": 12,
   "metadata": {},
   "outputs": [
    {
     "name": "stdout",
     "output_type": "stream",
     "text": [
      "zkkov\n",
      "svool dliow!\n",
      "xsirhgnzh rh gsv 25gs lu wvxvnyvi\n"
     ]
    }
   ],
   "source": [
    "# 2. The Atbash cipher is an encryption method in which each letter of a word is replaced with its \"mirror\" letter in the alphabet: A <=> Z; B <=> Y; C <=> X; etc.\n",
    "\n",
    "# Create a function that takes a string and applies the Atbash cipher to it.\n",
    "\n",
    "# Examples\n",
    "\n",
    "# atbash(\"apple\") ➞ \"zkkov\"\n",
    "\n",
    "# atbash(\"Hello world!\") ➞ \"Svool dliow!\"\n",
    "\n",
    "# atbash(\"Christmas is the 25th of December\") ➞ \"Xsirhgnzh rh gsv 25gs lu Wvxvnyvi\"\n",
    "\n",
    "\n",
    "def atbash(string):\n",
    "    return \"\".join([chr(ord('z') - ord(letter) + ord('a')) if letter.isalpha() else letter for letter in string.lower()])\n",
    "\n",
    "print(atbash(\"apple\"))\n",
    "print(atbash(\"Hello world!\"))\n",
    "print(atbash(\"Christmas is the 25th of December\"))\n"
   ]
  },
  {
   "cell_type": "code",
   "execution_count": 21,
   "metadata": {},
   "outputs": [
    {
     "name": "stdout",
     "output_type": "stream",
     "text": [
      "John Doe\n",
      "Mary Major\n",
      "178\n",
      "Italian\n"
     ]
    }
   ],
   "source": [
    "# 3. Create a class Employee that will take a full name as argument, \n",
    "# as well as a set of none, one or more keywords. Each instance should have a name and \n",
    "# a lastname attributes plus one more attribute for each of the keywords, if any.\n",
    "\n",
    "# Examples\n",
    "\n",
    "# john = Employee(\"John Doe\")\n",
    "# mary = Employee(\"Mary Major\", salary=120000)\n",
    "# richard = Employee(\"Richard Roe\", salary=110000, height=178)\n",
    "# giancarlo = Employee(\"Giancarlo Rossi\", salary=115000, height=182, nationality=\"Italian\")\n",
    "\n",
    "# john.name ➞ \"John\"\n",
    "# mary.lastname ➞ \"Major\"\n",
    "# richard.height ➞ 178\n",
    "# giancarlo.nationality ➞ \"Italian\"\n",
    "\n",
    "\n",
    "class Employee :\n",
    "    \n",
    "    def __init__(self, Name, salary = None, height = None, nationality = None):\n",
    "        self.Name = Name\n",
    "        self.salary = salary\n",
    "        self.height = height\n",
    "        self.nationality = nationality\n",
    "        \n",
    "        \n",
    "john = Employee(\"John Doe\")\n",
    "mary = Employee(\"Mary Major\", salary= 120000)\n",
    "richard = Employee(\"Richard Roe\", salary=110000, height=178)\n",
    "giancarlo = Employee(\"Giancarlo Rossi\", salary=115000, height=182, nationality=\"Italian\")\n",
    "print(john.Name)\n",
    "print(mary.Name)\n",
    "print(richard.height)\n",
    "print(giancarlo.nationality)"
   ]
  },
  {
   "cell_type": "code",
   "execution_count": 24,
   "metadata": {},
   "outputs": [
    {
     "name": "stdout",
     "output_type": "stream",
     "text": [
      "True\n",
      "False\n"
     ]
    }
   ],
   "source": [
    "# 4. Create a function that determines whether each seat can \"see\" the front-stage. A number can \"see\" the front-stage if it is strictly greater than the number before it.\n",
    "\n",
    "# Everyone can see the front-stage in the example below:\n",
    "\n",
    "# # FRONT STAGE\n",
    "# [[1, 2, 3, 2, 1, 1],\n",
    "# [2, 4, 4, 3, 2, 2],\n",
    "# [5, 5, 5, 5, 4, 4],\n",
    "# [6, 6, 7, 6, 5, 5]]\n",
    "\n",
    "# # Starting from the left, the 6 > 5 > 2 > 1, so all numbers can see.\n",
    "# # 6 > 5 > 4 > 2 - so all numbers can see, etc.\n",
    "\n",
    "# Not everyone can see the front-stage in the example below:\n",
    "\n",
    "# # FRONT STAGE\n",
    "# [[1, 2, 3, 2, 1, 1], \n",
    "# [2, 4, 4, 3, 2, 2], \n",
    "# [5, 5, 5, 10, 4, 4], \n",
    "# [6, 6, 7, 6, 5, 5]]\n",
    "\n",
    "# # The 10 is directly in front of the 6 and blocking its view.\n",
    "\n",
    "# The function should return True if every number can see the front-stage, and False if even a single number cannot.\n",
    "\n",
    "# Examples\n",
    "\n",
    "# can_see_stage([\n",
    "#   [1, 2, 3],\n",
    "#   [4, 5, 6],\n",
    "#   [7, 8, 9]\n",
    "# ]) ➞ True\n",
    "\n",
    "# can_see_stage([\n",
    "#   [0, 0, 0],\n",
    "#   [1, 1, 1],\n",
    "#   [2, 2, 2]\n",
    "# ]) ➞ True\n",
    "\n",
    "# can_see_stage([\n",
    "#   [2, 0, 0], \n",
    "#   [1, 1, 1], \n",
    "#   [2, 2, 2]\n",
    "# ]) ➞ False\n",
    "\n",
    "# can_see_stage([\n",
    "#   [1, 0, 0],\n",
    "#   [1, 1, 1],\n",
    "#   [2, 2, 2]\n",
    "# ]) ➞ False\n",
    "\n",
    "# # Number must be strictly smaller than \n",
    "# # the number directly behind it.\n",
    "\n",
    "\n",
    "def can_see_stage(stage):\n",
    "    for row in stage:\n",
    "        for i in range(len(row)):\n",
    "            if i == 0:\n",
    "                continue\n",
    "            elif row[i] < row[i-1]:\n",
    "                return False\n",
    "    return True\n",
    "\n",
    "print(can_see_stage([\n",
    "    [1, 2, 3],\n",
    "    [4, 5, 6],\n",
    "    [7, 8, 9]]\n",
    "))\n",
    "\n",
    "print(can_see_stage([\n",
    "  [1, 0, 0],\n",
    "  [1, 1, 1],\n",
    "  [2, 2, 2]\n",
    "]))\n"
   ]
  }
 ],
 "metadata": {
  "interpreter": {
   "hash": "be6b6a6dd5c50eb9dd1d791bb7c5cc38fe0d4861323a9b57f0ae4af49614d244"
  },
  "kernelspec": {
   "display_name": "Python 3.9.10 64-bit (windows store)",
   "language": "python",
   "name": "python3"
  },
  "language_info": {
   "codemirror_mode": {
    "name": "ipython",
    "version": 3
   },
   "file_extension": ".py",
   "mimetype": "text/x-python",
   "name": "python",
   "nbconvert_exporter": "python",
   "pygments_lexer": "ipython3",
   "version": "3.9.10"
  },
  "orig_nbformat": 4
 },
 "nbformat": 4,
 "nbformat_minor": 2
}
