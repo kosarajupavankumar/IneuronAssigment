{
 "cells": [
  {
   "cell_type": "code",
   "execution_count": 27,
   "metadata": {},
   "outputs": [
    {
     "name": "stdout",
     "output_type": "stream",
     "text": [
      "11\n",
      "5\n",
      "26\n"
     ]
    }
   ],
   "source": [
    "# 1. For this challenge, forget how to add two numbers together. \n",
    "# The best explanation on what to do for this function is this meme:\n",
    "# Examples\n",
    "\n",
    "# meme_sum(26, 39) ➞ 515\n",
    "# # 2+3 = 5, 6+9 = 15\n",
    "# # 26 + 39 = 515\n",
    "\n",
    "# meme_sum(122, 81) ➞ 1103\n",
    "# # 1+0 = 1, 2+8 = 10, 2+1 = 3\n",
    "# # 122 + 81 = 1103\n",
    "\n",
    "# meme_sum(1222, 30277) ➞ 31499\n",
    "\n",
    "def meme_sum(num1, num2):\n",
    "    return sum(int(i) for i in str(num1 + num2))\n",
    "\n",
    "print(meme_sum(26, 39))\n",
    "print(meme_sum(122, 81))\n",
    "print(meme_sum(1222, 30277))"
   ]
  },
  {
   "cell_type": "code",
   "execution_count": 5,
   "metadata": {},
   "outputs": [
    {
     "name": "stdout",
     "output_type": "stream",
     "text": [
      "13\n",
      "29\n",
      "11\n"
     ]
    }
   ],
   "source": [
    "# 2. Given an integer, create a function that returns the next prime. If the number is prime, return the number itself.\n",
    "\n",
    "# Examples\n",
    "\n",
    "# next_prime(12) ➞ 13\n",
    "\n",
    "# next_prime(24) ➞ 29\n",
    "\n",
    "# next_prime(11) ➞ 11\n",
    "# # 11 is a prime, so we return the number itself.\n",
    "\n",
    "def next_prime(num):\n",
    "    for i in range(num, num+100):\n",
    "        if is_prime(i):\n",
    "            return i\n",
    "        \n",
    "def is_prime(num):\n",
    "    for i in range(2, num):\n",
    "        if num % i == 0:\n",
    "            return False\n",
    "    return True\n",
    "\n",
    "print(next_prime(12))\n",
    "print(next_prime(24))\n",
    "print(next_prime(11))"
   ]
  },
  {
   "cell_type": "code",
   "execution_count": 10,
   "metadata": {},
   "outputs": [
    {
     "name": "stdout",
     "output_type": "stream",
     "text": [
      "50\n",
      "25\n",
      "20\n"
     ]
    }
   ],
   "source": [
    "# 3. If a person traveled up a hill for 18mins at 20mph and then traveled back down the same path at 60mph then their average speed traveled was 30mph.\n",
    "\n",
    "# Write a function that returns the average speed traveled given an uphill time, uphill rate and a downhill rate. Uphill time is given in minutes. Return the rate as an integer (mph). No rounding is necessary.\n",
    "\n",
    "# Examples\n",
    "\n",
    "# ave_spd(18, 20, 60) ➞ 30\n",
    "\n",
    "# ave_spd(30, 10, 30) ➞ 15\n",
    "\n",
    "# ave_spd(30, 8, 24) ➞ 12\n",
    "\n",
    "def ave_spd(uphill_time, uphill_rate, downhill_rate):\n",
    "    return int((uphill_time * uphill_rate + downhill_rate * (uphill_time/2)) / uphill_time)\n",
    "\n",
    "print(ave_spd(18, 20, 60))\n",
    "print(ave_spd(30, 10, 30))\n",
    "print(ave_spd(30, 8, 24))"
   ]
  },
  {
   "cell_type": "code",
   "execution_count": 17,
   "metadata": {},
   "outputs": [
    {
     "name": "stdout",
     "output_type": "stream",
     "text": [
      "2\n",
      "5\n",
      "7\n",
      "11\n",
      "2\n"
     ]
    }
   ],
   "source": [
    "# 4. The Kempner Function, applied to a composite number, permits to find the smallest integer greater than zero whose factorial is exactly divided by the number.\n",
    "\n",
    "# kempner(6) ➞ 3\n",
    "\n",
    "# 1! = 1 % 6 > 0\n",
    "# 2! = 2 % 6 > 0\n",
    "# 3! = 6 % 6 === 0\n",
    "\n",
    "# kempner(10) ➞ 5\n",
    "\n",
    "# 1! = 1 % 10 > 0\n",
    "# 2! = 2 % 10 > 0\n",
    "# 3! = 6 % 10 > 0\n",
    "# 4! = 24 % 10 > 0\n",
    "# 5! = 120 % 10 === 0\n",
    "\n",
    "# A Kempner Function applied to a prime will always return the prime itself.\n",
    "\n",
    "# kempner(2) ➞ 2\n",
    "# kempner(5) ➞ 5\n",
    "\n",
    "# Given an integer n, implement a Kempner Function.\n",
    "\n",
    "# Examples\n",
    "\n",
    "# kempner(6) ➞ 3\n",
    "\n",
    "# kempner(10) ➞ 5\n",
    "\n",
    "# kempner(2) ➞ 2\n",
    "\n",
    "def kempner(n):\n",
    "    for i in range(n, n+100):\n",
    "        if is_composite(i):\n",
    "            return i\n",
    "        \n",
    "def is_composite(num):\n",
    "    for i in range(2, num):\n",
    "        if num % i == 0:\n",
    "            return False\n",
    "    return True\n",
    "\n",
    "print(kempner(2))\n",
    "print(kempner(5))\n",
    "print(kempner(6))\n",
    "print(kempner(10))\n",
    "print(kempner(2))"
   ]
  },
  {
   "cell_type": "code",
   "execution_count": 26,
   "metadata": {},
   "outputs": [
    {
     "name": "stdout",
     "output_type": "stream",
     "text": [
      "5\n",
      "1\n"
     ]
    }
   ],
   "source": [
    "# 5. You work in a factory, and your job is to take items from a conveyor belt and \n",
    "# pack them into boxes. Each box can hold a maximum of 10 kgs. Given a list containing the weight (in kg) of each item, how many boxes would you need to pack all of the items?\n",
    "\n",
    "# Example\n",
    "\n",
    "# boxes([2, 1, 2, 5, 4, 3, 6, 1, 1, 9, 3, 2]) ➞ 5\n",
    "\n",
    "# Box 1 = [2, 1, 2, 5] (10kg)\n",
    "# Box 2 = [4, 3] (7kg)\n",
    "# Box 3 = [6, 1, 1] (8kg)\n",
    "# Box 4 = [9] (9kg)\n",
    "# Box 5 = [3, 2] (5kg)\n",
    "\n",
    "def boxes(items):\n",
    "    items.sort()\n",
    "    total = 0\n",
    "    count = 0\n",
    "    for i in items:\n",
    "        total += i\n",
    "        if total > 10:\n",
    "            total = i\n",
    "            count += 1\n",
    "    return count + 1\n",
    "\n",
    "print(boxes([2, 1, 2, 5, 4, 3, 6, 1, 1, 9, 3, 2]))\n"
   ]
  },
  {
   "cell_type": "code",
   "execution_count": null,
   "metadata": {},
   "outputs": [],
   "source": []
  }
 ],
 "metadata": {
  "interpreter": {
   "hash": "d0a86f05f82fde68ac0efb950d36470c82cb6a99d0792a6304fb56a579ae2f5b"
  },
  "kernelspec": {
   "display_name": "Python 3.9.6 64-bit",
   "language": "python",
   "name": "python3"
  },
  "language_info": {
   "codemirror_mode": {
    "name": "ipython",
    "version": 3
   },
   "file_extension": ".py",
   "mimetype": "text/x-python",
   "name": "python",
   "nbconvert_exporter": "python",
   "pygments_lexer": "ipython3",
   "version": "3.9.6"
  },
  "orig_nbformat": 4
 },
 "nbformat": 4,
 "nbformat_minor": 2
}
