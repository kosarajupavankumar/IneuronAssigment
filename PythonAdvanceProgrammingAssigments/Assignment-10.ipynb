{
 "cells": [
  {
   "cell_type": "code",
   "execution_count": 4,
   "metadata": {},
   "outputs": [
    {
     "name": "stdout",
     "output_type": "stream",
     "text": [
      "[['#', '#', '#', '#'], ['#', '#', '#', '#'], ['#', '#', '#', '#'], ['#', '#', '#', '#'], ['#', '#', '#', '#']]\n",
      "[['*', '*', '*', '*', '*', '*', '*', '*', '*', '*'], ['*', '*', '*', '*', '*', '*', '*', '*', '*', '*'], ['*', '*', '*', '*', '*', '*', '*', '*', '*', '*']]\n",
      "invalid\n"
     ]
    }
   ],
   "source": [
    "# 1. Create a function that takes the width, height and character and returns a picture frame as a 2D list.\n",
    "\n",
    "# Examples\n",
    "\n",
    "# get_frame(4, 5, \"#\") ➞ [\n",
    "#   [\"####\"],\n",
    "#   [\"#  #\"],\n",
    "#   [\"#  #\"],\n",
    "#   [\"#  #\"],\n",
    "#   [\"####\"]\n",
    "# ]\n",
    "# # Frame is 4 characters wide and 5 characters tall.\n",
    "\n",
    "\n",
    "# get_frame(10, 3, \"*\") ➞ [\n",
    "#   [\"**********\"],\n",
    "#   [\"*        *\"],\n",
    "#   [\"**********\"]\n",
    "# ]\n",
    "# # Frame is 10 characters and wide and 3 characters tall.\n",
    "\n",
    "\n",
    "# get_frame(2, 5, \"0\") ➞ \"invalid\"\n",
    "# # Frame's width is not more than 2.\n",
    "\n",
    "def get_frame(width, height, character):\n",
    "    if width <= 2:\n",
    "        return \"invalid\"\n",
    "    else:\n",
    "        frame = []\n",
    "        for i in range(height):\n",
    "            frame.append([])\n",
    "            for j in range(width):\n",
    "                frame[i].append(character)\n",
    "        return frame\n",
    "    \n",
    "print(get_frame(4, 5, \"#\"))\n",
    "print(get_frame(10, 3, \"*\"))\n",
    "print(get_frame(2, 5, \"0\"))"
   ]
  },
  {
   "cell_type": "code",
   "execution_count": 8,
   "metadata": {},
   "outputs": [
    {
     "name": "stdout",
     "output_type": "stream",
     "text": [
      "False\n",
      "False\n",
      "True\n"
     ]
    }
   ],
   "source": [
    "# 2. Write three functions:\n",
    "\n",
    "#   1. boolean_and\n",
    "#   2. boolean_or\n",
    "#   3. boolean_xor\n",
    "# These functions should evaluate a list of True and False values, starting from the leftmost element and evaluating pairwise.\n",
    "\n",
    "# Examples\n",
    "\n",
    "# boolean_and([True, True, False, True]) ➞ False\n",
    "# [True, True, False, True] => [True, False, True] => [False, True] => False\n",
    "\n",
    "# boolean_or([True, True, False, False]) ➞ True\n",
    "# [True, True, False, True] => [True, False, False] => [True, False] => True\n",
    "\n",
    "# boolean_xor([True, True, False, False]) ➞ False\n",
    "# [True, True, False, False] => [False, False, False] => [False, False] => False\n",
    "\n",
    "def boolean_and(values):\n",
    "    new_values = []\n",
    "    for i in range(len(values)):\n",
    "        if i == 0:\n",
    "            new_values.append(values[i])\n",
    "        else:\n",
    "            new_values.append(new_values[i-1] and values[i])\n",
    "    return new_values[-1]\n",
    "\n",
    "print(boolean_and([True, True, False, True]))\n",
    "print(boolean_and([True, True, False, False]))\n",
    "print(boolean_and([True, True, True, True]))"
   ]
  },
  {
   "cell_type": "code",
   "execution_count": 11,
   "metadata": {},
   "outputs": [
    {
     "name": "stdout",
     "output_type": "stream",
     "text": [
      "[['#', '#', '#', '#', '#'], ['#', ' ', ' ', ' ', '#'], ['#', ' ', ' ', ' ', '#'], ['#', ' ', ' ', ' ', '#'], ['#', '#', '#', '#', '#']]\n",
      "[['#', '#', '#'], ['#', ' ', '#'], ['#', '#', '#']]\n",
      "[['#', '#'], ['#', '#']]\n",
      "[['#']]\n"
     ]
    }
   ],
   "source": [
    "# 3. Create a function that creates a box based on dimension n.\n",
    "\n",
    "# Examples\n",
    "\n",
    "# make_box(5) ➞ [\n",
    "#   \"#####\",\n",
    "#   \"#   #\",\n",
    "#   \"#   #\",\n",
    "#   \"#   #\",\n",
    "#   \"#####\"\n",
    "# ]\n",
    "\n",
    "# make_box(3) ➞ [\n",
    "#   \"###\",\n",
    "#   \"# #\",\n",
    "#   \"###\"\n",
    "# ]\n",
    "\n",
    "# make_box(2) ➞ [\n",
    "#   \"##\",\n",
    "#   \"##\"\n",
    "# ]\n",
    "\n",
    "# make_box(1) ➞ [\n",
    "#   \"#\"\n",
    "# ]\n",
    "\n",
    "def make_box(n):\n",
    "    box = []\n",
    "    for i in range(n):\n",
    "        box.append([])\n",
    "        for j in range(n):\n",
    "            if i == 0 or i == n-1 or j == 0 or j == n-1:\n",
    "                box[i].append(\"#\")\n",
    "            else:\n",
    "                box[i].append(\" \")\n",
    "    return box\n",
    "\n",
    "print(make_box(5))\n",
    "print(make_box(3))\n",
    "print(make_box(2))\n",
    "print(make_box(1))"
   ]
  },
  {
   "cell_type": "code",
   "execution_count": 12,
   "metadata": {},
   "outputs": [
    {
     "name": "stdout",
     "output_type": "stream",
     "text": [
      "True\n",
      "True\n",
      "False\n",
      "False\n"
     ]
    }
   ],
   "source": [
    "# 4. Given a common phrase, return False if any individual word in the phrase contains duplicate letters. Return True otherwise.\n",
    "\n",
    "# Examples\n",
    "\n",
    "# no_duplicate_letters(\"Fortune favours the bold.\") ➞ True\n",
    "\n",
    "# no_duplicate_letters(\"You can lead a horse to water, but you can't make him drink.\") ➞ True\n",
    "\n",
    "# no_duplicate_letters(\"Look before you leap.\") ➞ False\n",
    "# # Duplicate letters in \"Look\" and \"before\".\n",
    "\n",
    "# no_duplicate_letters(\"An apple a day keeps the doctor away.\") ➞ False\n",
    "# # Duplicate letters in \"apple\", \"keeps\", \"doctor\", and \"away\".\n",
    "\n",
    "\n",
    "def no_duplicate_letters(phrase):\n",
    "    phrase = phrase.split()\n",
    "    for word in phrase:\n",
    "        if len(set(word)) != len(word):\n",
    "            return False\n",
    "    return True\n",
    "\n",
    "print(no_duplicate_letters(\"Fortune favours the bold.\"))\n",
    "print(no_duplicate_letters(\"You can lead a horse to water, but you can't make him drink.\"))\n",
    "print(no_duplicate_letters(\"Look before you leap.\"))\n",
    "print(no_duplicate_letters(\"An apple a day keeps the doctor away.\"))"
   ]
  },
  {
   "cell_type": "code",
   "execution_count": 22,
   "metadata": {},
   "outputs": [
    {
     "name": "stdout",
     "output_type": "stream",
     "text": [
      "['California = yes', 'Florida = yes']\n",
      "['California = yes', 'Florida = yes']\n"
     ]
    }
   ],
   "source": [
    "# 5. Write a regular expression that will match the states that voted yes to President Trump's impeachment. \n",
    "# You must use RegEx positive lookahead.\n",
    "\n",
    "# Example\n",
    "\n",
    "# txt = \"Texas = no, California = yes, Florida = yes, Michigan = no\"\n",
    "# pattern = \"yourregularexpressionhere\"\n",
    "\n",
    "# re.findall(pattern, txt) ➞ [\"California\", \"Florida\"]\n",
    "\n",
    "import re\n",
    "txt = \"Texas = no, California = yes, Florida = yes, Michigan = no\"\n",
    "pattern = r\"\\w*\\s*=\\s*yes\"\n",
    "\n",
    "print(re.findall(pattern, txt))\n",
    "print(re.findall(pattern, txt))\n"
   ]
  }
 ],
 "metadata": {
  "interpreter": {
   "hash": "d0a86f05f82fde68ac0efb950d36470c82cb6a99d0792a6304fb56a579ae2f5b"
  },
  "kernelspec": {
   "display_name": "Python 3.9.6 64-bit",
   "language": "python",
   "name": "python3"
  },
  "language_info": {
   "codemirror_mode": {
    "name": "ipython",
    "version": 3
   },
   "file_extension": ".py",
   "mimetype": "text/x-python",
   "name": "python",
   "nbconvert_exporter": "python",
   "pygments_lexer": "ipython3",
   "version": "3.9.6"
  },
  "orig_nbformat": 4
 },
 "nbformat": 4,
 "nbformat_minor": 2
}
