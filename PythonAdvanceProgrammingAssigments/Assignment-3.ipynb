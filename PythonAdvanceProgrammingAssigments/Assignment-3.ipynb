{
 "cells": [
  {
   "cell_type": "code",
   "execution_count": 1,
   "metadata": {},
   "outputs": [
    {
     "name": "stdout",
     "output_type": "stream",
     "text": [
      "24\n",
      "0\n",
      "144\n",
      "-1\n"
     ]
    }
   ],
   "source": [
    "# 1. Create a function to perform basic arithmetic operations that includes addition, subtraction, multiplication and division on a string number (e.g. \"12 + 24\" or \"23 - 21\" or \"12 // 12\" or \"12 * 21\").\n",
    "\n",
    "# Here, we have 1 followed by a space, operator followed by another space and 2. For the challenge, we are going to have only two numbers between 1 valid operator. The return value should be a number.\n",
    "\n",
    "# eval() is not allowed. In case of division, whenever the second number equals \"0\" return -1.\n",
    "\n",
    "# For example:\n",
    "\n",
    "# \"15 // 0\"  ➞ -1\n",
    "\n",
    "# Examples\n",
    "\n",
    "# arithmetic_operation(\"12 + 12\") ➞ 24 // 12 + 12 = 24\n",
    "\n",
    "# arithmetic_operation(\"12 - 12\") ➞ 24 // 12 - 12 = 0\n",
    "\n",
    "# arithmetic_operation(\"12 * 12\") ➞ 144 // 12 * 12 = 144\n",
    "\n",
    "# arithmetic_operation(\"12 // 0\") ➞ -1 // 12 / 0 = -1\n",
    "\n",
    "def arithmetic_operation(string):\n",
    "    if string.find(\"//\") != -1:\n",
    "        return -1\n",
    "    else:\n",
    "        if string.find(\"+\") != -1:\n",
    "            return int(string.split(\"+\")[0]) + int(string.split(\"+\")[1])\n",
    "        elif string.find(\"-\") != -1:\n",
    "            return int(string.split(\"-\")[0]) - int(string.split(\"-\")[1])\n",
    "        elif string.find(\"*\") != -1:\n",
    "            return int(string.split(\"*\")[0]) * int(string.split(\"*\")[1])\n",
    "        elif string.find(\"/\") != -1:\n",
    "            if int(string.split(\"/\")[1]) == 0:\n",
    "                return -1\n",
    "            else:\n",
    "                return int(string.split(\"/\")[0]) / int(string.split(\"/\")[1])\n",
    "\n",
    "print(arithmetic_operation(\"12 + 12\"))\n",
    "print(arithmetic_operation(\"12 - 12\"))\n",
    "print(arithmetic_operation(\"12 * 12\"))\n",
    "print(arithmetic_operation(\"12 // 0\"))"
   ]
  },
  {
   "cell_type": "code",
   "execution_count": 2,
   "metadata": {},
   "outputs": [
    {
     "name": "stdout",
     "output_type": "stream",
     "text": [
      "47.08\n",
      "3.41\n",
      "68.28\n"
     ]
    }
   ],
   "source": [
    "# 2. Write a function that takes the coordinates of three points in the form of a 2d array and returns the perimeter of the triangle. The given points are the vertices of a triangle on a two-dimensional plane.\n",
    "\n",
    "# Examples\n",
    "\n",
    "# perimeter( [ [15, 7], [5, 22], [11, 1] ] ) ➞ 47.08\n",
    "\n",
    "# perimeter( [ [0, 0], [0, 1], [1, 0] ] ) ➞ 3.42\n",
    "\n",
    "# perimeter( [ [-10, -10], [10, 10 ], [-10, 10] ] ) ➞ 68.28\n",
    "\n",
    "def perimeter(points):\n",
    "    x1, y1 = points[0][0], points[0][1]\n",
    "    x2, y2 = points[1][0], points[1][1]\n",
    "    x3, y3 = points[2][0], points[2][1]\n",
    "    return round(((x1 - x2)**2 + (y1 - y2)**2)**0.5 + ((x1 - x3)**2 + (y1 - y3)**2)**0.5 + ((x2 - x3)**2 + (y2 - y3)**2)**0.5, 2)\n",
    "\n",
    "print(perimeter([[15, 7], [5, 22], [11, 1]]))\n",
    "print(perimeter([[0, 0], [0, 1], [1, 0]]))\n",
    "print(perimeter([[-10, -10], [10, 10 ], [-10, 10]]))\n"
   ]
  },
  {
   "cell_type": "code",
   "execution_count": 12,
   "metadata": {},
   "outputs": [
    {
     "name": "stdout",
     "output_type": "stream",
     "text": [
      "4\n",
      "4\n",
      "4\n"
     ]
    }
   ],
   "source": [
    "# 3. A city skyline can be represented as a 2-D list with 1s representing buildings. In the example below, the height of the tallest building is 4 (second-most right column).\n",
    "\n",
    "# [[0, 0, 0, 0, 0, 0],\n",
    "# [0, 0, 0, 0, 1, 0],\n",
    "# [0, 0, 1, 0, 1, 0],\n",
    "# [0, 1, 1, 1, 1, 0],\n",
    "# [1, 1, 1, 1, 1, 1]]\n",
    "\n",
    "# Create a function that takes a skyline (2-D list of 0's and 1's) and returns the height of the tallest skyscraper.\n",
    "\n",
    "# Examples\n",
    "\n",
    "# tallest_skyscraper([\n",
    "#   [0, 0, 0, 0],\n",
    "#   [0, 1, 0, 0],\n",
    "#   [0, 1, 1, 0],\n",
    "#   [1, 1, 1, 1]\n",
    "# ]) ➞ 3\n",
    "\n",
    "# tallest_skyscraper([\n",
    "#   [0, 1, 0, 0],\n",
    "#   [0, 1, 0, 0],\n",
    "#   [0, 1, 1, 0],\n",
    "#   [1, 1, 1, 1]\n",
    "# ]) ➞ 4\n",
    "\n",
    "# tallest_skyscraper([\n",
    "#   [0, 0, 0, 0],\n",
    "#   [0, 0, 0, 0],\n",
    "#   [1, 1, 1, 0],\n",
    "#   [1, 1, 1, 1]\n",
    "# ]) ➞ 2\n",
    "\n",
    "def tallest_skyscraper(skyline):\n",
    "    max_height = 0\n",
    "    for i in range(len(skyline)):\n",
    "        if skyline[i][-1] == 1:\n",
    "            max_height = max(max_height, i)\n",
    "    return max_height + 1\n",
    "\n",
    "print(tallest_skyscraper([[0, 0, 0, 0], [0, 0, 0, 0], [1, 1, 1, 0], [1, 1, 1, 1]]))\n",
    "print(tallest_skyscraper([[0, 1, 0, 0], [0, 1, 0, 0], [0, 1, 1, 0], [1, 1, 1, 1]]))\n",
    "print(tallest_skyscraper([[0, 0, 0, 0], [0, 0, 0, 0], [1, 1, 1, 0], [1, 1, 1, 1]]))"
   ]
  },
  {
   "cell_type": "code",
   "execution_count": 6,
   "metadata": {},
   "outputs": [
    {
     "name": "stdout",
     "output_type": "stream",
     "text": [
      "0\n",
      "1625\n",
      "6550\n"
     ]
    }
   ],
   "source": [
    "# 4. A financial institution provides professional services to banks and claims charges from the customers based on the number of man-days provided. Internally, it has set a scheme to motivate and reward staff to meet and exceed targeted billable utilization and revenues by paying a bonus for each day claimed from customers in excess of a threshold target.\n",
    "\n",
    "# This quarterly scheme is calculated with a threshold target of 32 days per quarter, and the incentive payment for each billable day in excess of such threshold target is shown as follows:\n",
    "\n",
    "# Days\t                             Bonus\n",
    "# 0 to 32 days\t                   Zero\n",
    "# 33 to 40 days\t         SGD$325 per billable day\n",
    "# 41 to 48 days\t         SGD$550 per billable day\n",
    "# Greater than 48 days      SGD$600 per billable day\n",
    "\n",
    "# Please note that incentive payment is calculated progressively. As an example, if an employee reached total billable days of 45 in a quarter, his/her incentive payment is computed as follows:\n",
    "\n",
    "# 32*0 + 8*325 + 5*550 = 5350\n",
    "\n",
    "# Write a function to read the billable days of an employee and return the bonus he/she has obtained in that quarter.\n",
    "\n",
    "# Examples\n",
    "\n",
    "# bonus(15) ➞ 0\n",
    "\n",
    "# bonus(37) ➞ 1625\n",
    "\n",
    "# bonus(50) ➞ 8200\n",
    "\n",
    "def bonus(days):\n",
    "    if days <= 32:\n",
    "        return 0\n",
    "    elif days <= 40:\n",
    "        return 325 * (days - 32)\n",
    "    elif days <= 48:\n",
    "        return 325 * 8 + 550 * (days - 40)\n",
    "    else:\n",
    "        return 325 * 8 + 550 * 5 + 600 * (days - 48)\n",
    "\n",
    "\n",
    "print(bonus(15))\n",
    "print(bonus(37))\n",
    "print(bonus(50))"
   ]
  },
  {
   "cell_type": "code",
   "execution_count": 8,
   "metadata": {},
   "outputs": [
    {
     "name": "stdout",
     "output_type": "stream",
     "text": [
      "False\n",
      "True\n",
      "False\n",
      "True\n",
      "False\n",
      "True\n"
     ]
    }
   ],
   "source": [
    "\n",
    "\n",
    "# 5. A number is said to be Disarium if the sum of its digits raised to their respective positions is the number itself.\n",
    "\n",
    "# Create a function that determines whether a number is a Disarium or not.\n",
    "\n",
    "# Examples\n",
    "\n",
    "# is_disarium(75) ➞ False\n",
    "# # 7^1 + 5^2 = 7 + 25 = 32\n",
    "\n",
    "# is_disarium(135) ➞ True\n",
    "# # 1^1 + 3^2 + 5^3 = 1 + 9 + 125 = 135\n",
    "\n",
    "# is_disarium(544) ➞ False\n",
    "\n",
    "# is_disarium(518) ➞ True\n",
    "\n",
    "# is_disarium(466) ➞ False\n",
    "\n",
    "# is_disarium(8) ➞ True\n",
    "\n",
    "def is_disarium(n):\n",
    "    n = str(n)\n",
    "    return sum([int(n[i])**(i+1) for i in range(len(n))]) == int(n)\n",
    "\n",
    "print(is_disarium(75))\n",
    "print(is_disarium(135))\n",
    "print(is_disarium(544))\n",
    "print(is_disarium(518))\n",
    "print(is_disarium(466))\n",
    "print(is_disarium(8))\n",
    "\n"
   ]
  }
 ],
 "metadata": {
  "interpreter": {
   "hash": "d0a86f05f82fde68ac0efb950d36470c82cb6a99d0792a6304fb56a579ae2f5b"
  },
  "kernelspec": {
   "display_name": "Python 3.9.6 64-bit",
   "language": "python",
   "name": "python3"
  },
  "language_info": {
   "codemirror_mode": {
    "name": "ipython",
    "version": 3
   },
   "file_extension": ".py",
   "mimetype": "text/x-python",
   "name": "python",
   "nbconvert_exporter": "python",
   "pygments_lexer": "ipython3",
   "version": "3.9.6"
  },
  "orig_nbformat": 4
 },
 "nbformat": 4,
 "nbformat_minor": 2
}
